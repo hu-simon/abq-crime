{
 "metadata": {
  "language_info": {
   "codemirror_mode": {
    "name": "ipython",
    "version": 3
   },
   "file_extension": ".py",
   "mimetype": "text/x-python",
   "name": "python",
   "nbconvert_exporter": "python",
   "pygments_lexer": "ipython3",
   "version": "3.8.5-final"
  },
  "orig_nbformat": 2,
  "kernelspec": {
   "name": "python3",
   "display_name": "Python 3.8.5 64-bit ('abq_crime': conda)",
   "metadata": {
    "interpreter": {
     "hash": "62409ccdbaec1e4bb0d9643679b40b9a68feb354adb6a62f9100f8a131cbeea3"
    }
   }
  }
 },
 "nbformat": 4,
 "nbformat_minor": 2,
 "cells": [
  {
   "cell_type": "code",
   "execution_count": 1,
   "metadata": {},
   "outputs": [],
   "source": [
    "import os\n",
    "import glob\n",
    "import time\n",
    "\n",
    "import json\n",
    "import pyproj \n",
    "import numpy as np\n",
    "import pandas as pd\n",
    "import seaborn as sns\n",
    "import matplotlib.pyplot as plt"
   ]
  },
  {
   "cell_type": "code",
   "execution_count": 2,
   "metadata": {},
   "outputs": [],
   "source": [
    "data_path = \"/Users/administrator/Documents/Projects/abq_crime/data/abq_police_incidents_test.json\""
   ]
  },
  {
   "cell_type": "code",
   "execution_count": 3,
   "metadata": {},
   "outputs": [],
   "source": [
    "# Load the data.\n",
    "with open(data_path) as json_file:\n",
    "    raw_data = json.load(json_file)\n",
    "    json_file.close()\n",
    "\n",
    "# Determine the number of data points.\n",
    "num_data = len(raw_data[\"features\"])"
   ]
  },
  {
   "source": [
    "A subset of the geometric data is unavailable, so we should list those indices."
   ],
   "cell_type": "markdown",
   "metadata": {}
  },
  {
   "cell_type": "code",
   "execution_count": 4,
   "metadata": {},
   "outputs": [
    {
     "output_type": "stream",
     "name": "stdout",
     "text": [
      "Entire operation took 0.027006149291992188 seconds.\nThere are 1124 entries without geometric data.\nSome example indices: [69, 86, 108, 129, 158]\n"
     ]
    }
   ],
   "source": [
    "# Find the indices of missing geometric data.\n",
    "missing_geometry_indices = list()\n",
    "\n",
    "time_start = time.time()\n",
    "for i in range(num_data):\n",
    "    if (\"geometry\" not in list(raw_data[\"features\"][i].keys())):\n",
    "        missing_geometry_indices.append(i)\n",
    "time_end = time.time()\n",
    "print(\"Entire operation took {} seconds.\".format(time_end - time_start))\n",
    "\n",
    "# See how many indices are missing.\n",
    "print(\"There are {} entries without geometric data.\".format(len(missing_geometry_indices)))\n",
    "\n",
    "# Get some example indices.\n",
    "print(\"Some example indices: {}\".format(missing_geometry_indices[0:5]))"
   ]
  },
  {
   "cell_type": "code",
   "execution_count": 5,
   "metadata": {},
   "outputs": [],
   "source": [
    "def to_latlong(point, input_standard=\"epsg:3857\", output_standard=\"epsg:4326\"):\n",
    "    \"\"\" Converts a point from ERSI:102100 to EPSG:4326 (lat/long). \"\"\"\n",
    "    transformer = pyproj.Transformer.from_crs(input_standard, output_standard)\n",
    "    (x_proj, y_proj) = transformer.transform(point[0], point[1])\n",
    "\n",
    "    return [x_proj, y_proj]"
   ]
  },
  {
   "cell_type": "code",
   "execution_count": 6,
   "metadata": {
    "tags": []
   },
   "outputs": [
    {
     "output_type": "stream",
     "name": "stdout",
     "text": [
      "Entire operation took 2698.9444539546967 seconds.\n"
     ]
    }
   ],
   "source": [
    "# Extract the data into a list.\n",
    "extracted_data = list()\n",
    "\n",
    "time_start = time.time()\n",
    "for i in range(num_data):\n",
    "    # Extract the attribute data\n",
    "    attributes = raw_data[\"features\"][i][\"attributes\"]\n",
    "    attribute_data = [attributes[key] for key in attributes.keys()]\n",
    "    \n",
    "    # Extract the geometric data. We will need to convert to lat/long before we store it.\n",
    "    if i in missing_geometry_indices:\n",
    "        projected_data = [np.nan, np.nan]\n",
    "    else:\n",
    "        # Obtain the geometries and then convert it to latlong.\n",
    "        geometries = raw_data[\"features\"][i][\"geometry\"]\n",
    "        geometry_data = [geometries[key] for key in geometries.keys()]\n",
    "        projected_data = to_latlong(point=(geometry_data[0], geometry_data[1]))\n",
    "        #projected_data = [geometries[key] for key in geometries.keys()]\n",
    "\n",
    "    attribute_data += projected_data\n",
    "    extracted_data.append(attribute_data)\n",
    "time_end = time.time()\n",
    "print(\"Entire operation took {} seconds.\".format(time_end - time_start))"
   ]
  },
  {
   "cell_type": "code",
   "execution_count": 7,
   "metadata": {},
   "outputs": [
    {
     "output_type": "execute_result",
     "data": {
      "text/plain": [
       "[[45420062,\n",
       "  'I25 NORTHBOUND SE / COAL AV SE',\n",
       "  'TRAFFIC STOP',\n",
       "  1600819200000,\n",
       "  35.078681961404726,\n",
       "  -106.63735016938548],\n",
       " [45420063,\n",
       "  'COORS BL NW / SEQUOIA RD NW',\n",
       "  'TRAFFIC STOP',\n",
       "  1600819200000,\n",
       "  35.121312948507,\n",
       "  -106.7016212161628],\n",
       " [45420064,\n",
       "  'COORS BL NW / EAGLE RANCH RD NW',\n",
       "  'DIRECT TRAFFIC',\n",
       "  1600819200000,\n",
       "  35.174464215283486,\n",
       "  -106.67368513706435],\n",
       " [45420065,\n",
       "  'BRYN MAWR DR NE / MENAUL BL NE',\n",
       "  'TRAFFIC STOP',\n",
       "  1600819200000,\n",
       "  35.109200978367255,\n",
       "  -106.60911953450203],\n",
       " [45420066,\n",
       "  'I25 NORTHBOUND SE / COAL AV SE',\n",
       "  'TRAFFIC STOP',\n",
       "  1600819200000,\n",
       "  35.078681961404726,\n",
       "  -106.63735016938548]]"
      ]
     },
     "metadata": {},
     "execution_count": 7
    }
   ],
   "source": [
    "# Test cell for collect some data\n",
    "extracted_data[0:5]"
   ]
  },
  {
   "cell_type": "code",
   "execution_count": 8,
   "metadata": {},
   "outputs": [],
   "source": [
    "# Pickle it.\n",
    "import pickle\n",
    "\n",
    "with open(\"./processed_data.pkl\", \"wb\") as f:\n",
    "    pickle.dump(extracted_data, f)"
   ]
  },
  {
   "cell_type": "code",
   "execution_count": 11,
   "metadata": {},
   "outputs": [
    {
     "output_type": "execute_result",
     "data": {
      "text/plain": [
       "[45420062,\n",
       " 'I25 NORTHBOUND SE / COAL AV SE',\n",
       " 'TRAFFIC STOP',\n",
       " 1600819200000,\n",
       " 35.078681961404726,\n",
       " -106.63735016938548]"
      ]
     },
     "metadata": {},
     "execution_count": 11
    }
   ],
   "source": [
    "# Load it\n",
    "with open(\"./processed_data.pkl\", \"rb\") as f:\n",
    "    test_data = pickle.load(f)\n",
    "test_data[0]"
   ]
  }
 ]
}
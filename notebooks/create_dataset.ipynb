{
 "metadata": {
  "language_info": {
   "codemirror_mode": {
    "name": "ipython",
    "version": 3
   },
   "file_extension": ".py",
   "mimetype": "text/x-python",
   "name": "python",
   "nbconvert_exporter": "python",
   "pygments_lexer": "ipython3",
   "version": "3.8.3-final"
  },
  "orig_nbformat": 2,
  "kernelspec": {
   "name": "python3",
   "display_name": "Python 3"
  }
 },
 "nbformat": 4,
 "nbformat_minor": 2,
 "cells": [
  {
   "cell_type": "code",
   "execution_count": 1,
   "metadata": {},
   "outputs": [],
   "source": [
    "import os\n",
    "import time\n",
    "\n",
    "import pickle\n",
    "import pandas as pd"
   ]
  },
  {
   "cell_type": "code",
   "execution_count": 2,
   "metadata": {},
   "outputs": [],
   "source": [
    "# Load the data.\n",
    "data_path = \"/Users/administrator/Documents/Projects/abq_crime/data/processed_data.pkl\"\n",
    "extracted_data = pickle.load(open(data_path, \"rb\"))\n",
    "\n",
    "# Create the Pandas DataFrame.\n",
    "data_columns = [\"Object_ID\", \"Location\", \"Description\", \"Date\", \"Latitude\", \"Longitude\"]\n",
    "dataset = pd.DataFrame(extracted_data, columns=data_columns)"
   ]
  },
  {
   "cell_type": "code",
   "execution_count": 3,
   "metadata": {},
   "outputs": [
    {
     "output_type": "stream",
     "name": "stdout",
     "text": [
      "0    Tue Sep 22 17:00:00 2020\n1    Tue Sep 22 17:00:00 2020\n2    Tue Sep 22 17:00:00 2020\n3    Tue Sep 22 17:00:00 2020\n4    Tue Sep 22 17:00:00 2020\nName: Date, dtype: object\nEntire operation took 0.0959169864654541 seconds.\n"
     ]
    }
   ],
   "source": [
    "# Convert the date into a more readable format.\n",
    "time_start = time.time()\n",
    "dataset[\"Date\"] = dataset[\"Date\"].apply(lambda t: time.ctime(t / 1000.0))\n",
    "time_end = time.time()\n",
    "\n",
    "print(dataset[\"Date\"].head())\n",
    "print(\"Entire operation took {} seconds.\".format(time_end - time_start))"
   ]
  },
  {
   "source": [
    "The date contains the day of the week along with the timestamp (which is always set at 17:00:00). We need to split the day of the week, extract the (year, month, day) data, and then put it in a format that is understandable (i.e. 2020/09/22)."
   ],
   "cell_type": "markdown",
   "metadata": {}
  },
  {
   "cell_type": "code",
   "execution_count": 4,
   "metadata": {},
   "outputs": [],
   "source": [
    "# Extract the day of the week data from the entire date data.\n",
    "conversion_key = {\"Mon\": \"Monday\", \"Tue\": \"Tuesday\", \"Wed\": \"Wednesday\", \"Thu\": \"Thursday\", \"Fri\": \"Friday\", \"Sat\": \"Saturday\", \"Sun\": \"Sunday\"}\n",
    "dataset[\"Day of Week\"] = dataset[\"Date\"].apply(lambda x: conversion_key[x.split()[0]])"
   ]
  },
  {
   "cell_type": "code",
   "execution_count": 5,
   "metadata": {},
   "outputs": [],
   "source": [
    "def pad_day(day):\n",
    "    \"\"\"Pads the day data if day < 10.\n",
    "    \n",
    "    Parameters\n",
    "    ----------\n",
    "    day : string\n",
    "        String containing the day information.\n",
    "\n",
    "    Returns\n",
    "    -------\n",
    "    day : string\n",
    "        String containing the padded day information, if necessary.\n",
    "    \n",
    "    \"\"\"\n",
    "    if (int(day) < 10):\n",
    "        day = \"0{}\".format(day)\n",
    "\n",
    "    return day\n",
    "\n",
    "def extract_date_from_full(full_date, month_key):\n",
    "    \"\"\"Extracts and converts the date into the format YYYY/MM/DD.\n",
    "\n",
    "    Parameters\n",
    "    ----------\n",
    "    full_date : string\n",
    "        String containing the full date data.\n",
    "    month_key : dict\n",
    "        Dictionary containing the conversion from month in words, to month in integers.\n",
    "\n",
    "    Returns\n",
    "    -------\n",
    "    extracted_date : string\n",
    "        String containing the converted date.\n",
    "\n",
    "    \"\"\"\n",
    "    parts = full_date.split()\n",
    "    year = parts[-1]\n",
    "    month = parts[1]\n",
    "    day = parts[2]\n",
    "\n",
    "    return \"{}/{}/{}\".format(year, month_key[month], pad_day(day))"
   ]
  },
  {
   "cell_type": "code",
   "execution_count": 6,
   "metadata": {},
   "outputs": [
    {
     "output_type": "stream",
     "name": "stdout",
     "text": [
      "Entire operation took 0.06806111335754395 seconds.\n"
     ]
    }
   ],
   "source": [
    "# Extract the date information from the entire date data.\n",
    "month_key = {\"Jan\": \"01\", \"Feb\": \"02\", \"Mar\": \"03\", \"Apr\": \"04\", \"May\": \"05\", \"Jun\": \"06\", \"Jul\": \"07\", \"Aug\": \"08\", \"Sep\": \"09\", \"Oct\": \"10\", \"Nov\": \"11\", \"Dec\": \"12\"}\n",
    "\n",
    "time_start = time.time()\n",
    "dataset[\"Date\"] = dataset[\"Date\"].apply(extract_date_from_full, args=(month_key,))\n",
    "time_end = time.time()\n",
    "\n",
    "print(\"Entire operation took {} seconds.\".format(time_end - time_start))"
   ]
  },
  {
   "cell_type": "code",
   "execution_count": 7,
   "metadata": {},
   "outputs": [],
   "source": [
    "# Reorder the columns.\n",
    "data_columns = [\"Object_ID\", \"Location\", \"Description\", \"Day of Week\", \"Date\", \"Latitude\", \"Longitude\"]\n",
    "dataset = dataset.reindex(columns=data_columns)"
   ]
  },
  {
   "cell_type": "code",
   "execution_count": 8,
   "metadata": {},
   "outputs": [
    {
     "output_type": "execute_result",
     "data": {
      "text/plain": [
       "   Object_ID                         Location     Description Day of Week  \\\n",
       "0   45420062   I25 NORTHBOUND SE / COAL AV SE    TRAFFIC STOP     Tuesday   \n",
       "1   45420063      COORS BL NW / SEQUOIA RD NW    TRAFFIC STOP     Tuesday   \n",
       "2   45420064  COORS BL NW / EAGLE RANCH RD NW  DIRECT TRAFFIC     Tuesday   \n",
       "3   45420065   BRYN MAWR DR NE / MENAUL BL NE    TRAFFIC STOP     Tuesday   \n",
       "4   45420066   I25 NORTHBOUND SE / COAL AV SE    TRAFFIC STOP     Tuesday   \n",
       "\n",
       "         Date   Latitude   Longitude  \n",
       "0  2020/09/22  35.078682 -106.637350  \n",
       "1  2020/09/22  35.121313 -106.701621  \n",
       "2  2020/09/22  35.174464 -106.673685  \n",
       "3  2020/09/22  35.109201 -106.609120  \n",
       "4  2020/09/22  35.078682 -106.637350  "
      ],
      "text/html": "<div>\n<style scoped>\n    .dataframe tbody tr th:only-of-type {\n        vertical-align: middle;\n    }\n\n    .dataframe tbody tr th {\n        vertical-align: top;\n    }\n\n    .dataframe thead th {\n        text-align: right;\n    }\n</style>\n<table border=\"1\" class=\"dataframe\">\n  <thead>\n    <tr style=\"text-align: right;\">\n      <th></th>\n      <th>Object_ID</th>\n      <th>Location</th>\n      <th>Description</th>\n      <th>Day of Week</th>\n      <th>Date</th>\n      <th>Latitude</th>\n      <th>Longitude</th>\n    </tr>\n  </thead>\n  <tbody>\n    <tr>\n      <th>0</th>\n      <td>45420062</td>\n      <td>I25 NORTHBOUND SE / COAL AV SE</td>\n      <td>TRAFFIC STOP</td>\n      <td>Tuesday</td>\n      <td>2020/09/22</td>\n      <td>35.078682</td>\n      <td>-106.637350</td>\n    </tr>\n    <tr>\n      <th>1</th>\n      <td>45420063</td>\n      <td>COORS BL NW / SEQUOIA RD NW</td>\n      <td>TRAFFIC STOP</td>\n      <td>Tuesday</td>\n      <td>2020/09/22</td>\n      <td>35.121313</td>\n      <td>-106.701621</td>\n    </tr>\n    <tr>\n      <th>2</th>\n      <td>45420064</td>\n      <td>COORS BL NW / EAGLE RANCH RD NW</td>\n      <td>DIRECT TRAFFIC</td>\n      <td>Tuesday</td>\n      <td>2020/09/22</td>\n      <td>35.174464</td>\n      <td>-106.673685</td>\n    </tr>\n    <tr>\n      <th>3</th>\n      <td>45420065</td>\n      <td>BRYN MAWR DR NE / MENAUL BL NE</td>\n      <td>TRAFFIC STOP</td>\n      <td>Tuesday</td>\n      <td>2020/09/22</td>\n      <td>35.109201</td>\n      <td>-106.609120</td>\n    </tr>\n    <tr>\n      <th>4</th>\n      <td>45420066</td>\n      <td>I25 NORTHBOUND SE / COAL AV SE</td>\n      <td>TRAFFIC STOP</td>\n      <td>Tuesday</td>\n      <td>2020/09/22</td>\n      <td>35.078682</td>\n      <td>-106.637350</td>\n    </tr>\n  </tbody>\n</table>\n</div>"
     },
     "metadata": {},
     "execution_count": 8
    }
   ],
   "source": [
    "dataset.head()"
   ]
  },
  {
   "cell_type": "code",
   "execution_count": 11,
   "metadata": {},
   "outputs": [],
   "source": [
    "# Save the Pandas DataFrame as a pkl.\n",
    "save_path = \"/Users/administrator/Documents/Projects/abq_crime/data/processed_dataframe.pkl\"\n",
    "dataset.to_pickle(save_path)"
   ]
  }
 ]
}
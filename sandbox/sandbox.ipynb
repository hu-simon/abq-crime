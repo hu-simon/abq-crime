{
 "metadata": {
  "language_info": {
   "codemirror_mode": {
    "name": "ipython",
    "version": 3
   },
   "file_extension": ".py",
   "mimetype": "text/x-python",
   "name": "python",
   "nbconvert_exporter": "python",
   "pygments_lexer": "ipython3",
   "version": "3.8.5-final"
  },
  "orig_nbformat": 2,
  "kernelspec": {
   "name": "python3",
   "display_name": "Python 3.8.5 64-bit",
   "metadata": {
    "interpreter": {
     "hash": "62409ccdbaec1e4bb0d9643679b40b9a68feb354adb6a62f9100f8a131cbeea3"
    }
   }
  }
 },
 "nbformat": 4,
 "nbformat_minor": 2,
 "cells": [
  {
   "cell_type": "code",
   "execution_count": 18,
   "metadata": {},
   "outputs": [],
   "source": [
    "import time\n",
    "\n",
    "import pyproj\n",
    "import shapely\n",
    "import numpy as np\n",
    "import pandas as pd\n",
    "from tqdm import tqdm\n",
    "\n",
    "import gmaps\n",
    "import geopandas as gpd"
   ]
  },
  {
   "cell_type": "code",
   "execution_count": 2,
   "metadata": {},
   "outputs": [],
   "source": [
    "# Authenticate the API Key.\n",
    "key_path = \"/Users/administrator/Documents/Projects/abq_crime/api_key.txt\"\n",
    "with open(key_path) as f:\n",
    "    api_key = f.readline()\n",
    "    f.close()\n",
    "\n",
    "# Initialize a session.\n",
    "gmaps.configure(api_key=api_key)"
   ]
  },
  {
   "cell_type": "code",
   "execution_count": 3,
   "metadata": {},
   "outputs": [],
   "source": [
    "# Utility functions.\n",
    "def convert_coordinates(coordinates, transformer=None):\n",
    "    \"\"\"Converts coordinates from the EPSG:2258 standard to the EPSG:4326 standard.\n",
    "\n",
    "    Parameters\n",
    "    ----------\n",
    "    coordinates : tuple (int, int)\n",
    "        Tuple containing the coordinates in the EPSG:2258 standard.\n",
    "    transformer : pyproj.transformer.Transformer instance\n",
    "        Instance of a pyproj transformer used for converting the coordinates, by default None. If no transformer is specified, then the default transformer that converts EPSG:2258 to EPSG:4326 is used.\n",
    "\n",
    "    Returns\n",
    "    -------\n",
    "    trans_coordinates : tuple (int, int)\n",
    "        Tuple containing the coordinates in the EPSG:4326 standard.\n",
    "\n",
    "    \"\"\"\n",
    "    if transformer is None:\n",
    "        transformer = pyproj.Transformer.from_crs(\"epsg:2258\", \"epsg:4326\")\n",
    "\n",
    "    trans_coordinates = transformer.transform(coordinates[0], coordinates[1])\n",
    "\n",
    "    return trans_coordinates\n",
    "\n",
    "def batch_convert_coordinates(coord_list, transformer=None):\n",
    "    \"\"\"Converts a batch of coordinates from the EPSG:2258 standard to the EPSG:4326 standard.\n",
    "\n",
    "    Parameters\n",
    "    ----------\n",
    "    coord_list : list of tuples (int, int)\n",
    "        List containing tuples containing the coordinates in the EPSG:2258 standard.\n",
    "    transformer : pyproj.transformer.Transformer instance\n",
    "        Instance of a pyproj transformer used for converting the coordinates, by default None. If no transformer is specified, then the default transformer that converts EPSG:2258 to EPSG:4326 is used.\n",
    "\n",
    "    Returns\n",
    "    -------\n",
    "    trans_coord_list : list of tuples (int, int)\n",
    "        List containing tuples of coordinates in the EPSG:4326 standard.\n",
    "\n",
    "    \"\"\"\n",
    "    if transformer is None:\n",
    "        transformer = pyproj.Transformer.from_crs(\"epsg:2258\", \"epsg:4326\")\n",
    "\n",
    "    trans_coord_list = list()\n",
    "    for coord in coord_list:\n",
    "        trans_coord_list.append(convert_coordinates(coord, transformer=transformer))\n",
    "\n",
    "    return trans_coord_list"
   ]
  },
  {
   "cell_type": "code",
   "execution_count": 4,
   "metadata": {},
   "outputs": [],
   "source": [
    "# Load the zipcode shapefile.\n",
    "shapefile_path = \"/Users/administrator/Documents/Projects/abq_crime/shapefiles/zipcodes/zipcodes.shp\"\n",
    "zipcodes_shapefile = gpd.read_file(shapefile_path)\n",
    "\n",
    "# Keep only the relevant columns.\n",
    "keep_columns = [\"ZIPCODE\", \"geometry\"]\n",
    "zipcodes_shapefile = zipcodes_shapefile[keep_columns]\n",
    "\n",
    "# Get the indices of the zip codes that have separated convex sets.\n",
    "mpolygon_indices = [type(entry) == shapely.geometry.multipolygon.MultiPolygon for entry in zipcodes_shapefile[\"geometry\"]]\n",
    "mpolygon_indices = [idx for idx, entry in enumerate(mpolygon_indices) if entry == True]\n"
   ]
  },
  {
   "cell_type": "code",
   "execution_count": 5,
   "metadata": {},
   "outputs": [
    {
     "output_type": "stream",
     "name": "stdout",
     "text": [
      "Entire operation took 0.0036230087280273438 seconds.\n"
     ]
    }
   ],
   "source": [
    "# For the indices above, create new entries at the end of the DataFrame containing the zipcode and geometry.\n",
    "# Can use the iloc method to grab the entry in question.\n",
    "append_list = list()\n",
    "start_time = time.time()\n",
    "for index in mpolygon_indices:\n",
    "    zipcode = zipcodes_shapefile.iloc[index][\"ZIPCODE\"]\n",
    "    for poly in zipcodes_shapefile.iloc[index][\"geometry\"]:\n",
    "        append_list.append((zipcode, poly))\n",
    "end_time = time.time()\n",
    "\n",
    "print(\"Entire operation took {} seconds.\".format(end_time - start_time))"
   ]
  },
  {
   "cell_type": "code",
   "execution_count": 6,
   "metadata": {},
   "outputs": [
    {
     "output_type": "execute_result",
     "data": {
      "text/plain": [
       "[(87116, <shapely.geometry.polygon.Polygon at 0x7fd20deb9550>),\n",
       " (87116, <shapely.geometry.polygon.Polygon at 0x7fd20deb9460>)]"
      ]
     },
     "metadata": {},
     "execution_count": 6
    }
   ],
   "source": [
    "append_list"
   ]
  },
  {
   "cell_type": "code",
   "execution_count": 7,
   "metadata": {},
   "outputs": [
    {
     "output_type": "stream",
     "name": "stdout",
     "text": [
      "    ZIPCODE                                           geometry\n0     87026  POLYGON ((1431957.874 1535487.031, 1431957.874...\n1     87048  POLYGON ((1517118.876 1533412.031, 1517062.874...\n2     87015  POLYGON ((1670405.876 1429902.031, 1654045.874...\n3     87114  POLYGON ((1418289.874 1503967.031, 1418468.874...\n4     87120  POLYGON ((1519373.874 1518146.031, 1517426.874...\n5     87115  POLYGON ((1573879.874 1428887.031, 1575437.874...\n6     87104  POLYGON ((1517424.874 1488780.031, 1517297.876...\n7     87047  POLYGON ((1637050.874 1517579.031, 1637093.874...\n8     87121  POLYGON ((1504327.106 1493091.789, 1504348.524...\n9     87068  POLYGON ((1453961.899 1470688.578, 1454190.546...\n10    87131  POLYGON ((1530490.874 1491275.031, 1530468.874...\n11    87102  POLYGON ((1521205.324 1495789.213, 1521604.184...\n12    87112  POLYGON ((1556493.361 1497733.401, 1556506.249...\n13    87107  POLYGON ((1529367.874 1513436.031, 1529158.874...\n14    87113  POLYGON ((1548633.043 1521467.381, 1548631.546...\n15    87122  POLYGON ((1563466.874 1534688.031, 1570181.874...\n16    87008  POLYGON ((1586692.989 1499377.739, 1587360.549...\n17    87059  POLYGON ((1637096.874 1499350.031, 1637143.874...\n18    87105  POLYGON ((1508214.874 1494270.031, 1508175.573...\n19    87123  POLYGON ((1587238.873 1492888.031, 1587345.874...\n20    87117  POLYGON ((1539760.030 1462079.680, 1539768.306...\n21    87106  POLYGON ((1534271.874 1493824.031, 1534267.186...\n22    87108  POLYGON ((1550237.017 1479267.655, 1547828.874...\n23    87110  POLYGON ((1537867.876 1502596.031, 1538670.874...\n24    87111  POLYGON ((1548240.459 1513586.929, 1548285.814...\n25    87109  POLYGON ((1539862.484 1518877.396, 1540794.184...\n26    87116  POLYGON ((1547828.874 1479275.031, 1550237.017...\n27    87116  POLYGON ((1534768.061 1476733.858, 1534787.231...\n"
     ]
    }
   ],
   "source": [
    "# Add to the DataFrame.\n",
    "for item in append_list:\n",
    "    zipcodes_shapefile.loc[len(zipcodes_shapefile)] = item\n",
    "\n",
    "# Delete the original entry.\n",
    "zipcodes_shapefile.drop(mpolygon_indices, axis=0, inplace=True)\n",
    "zipcodes_shapefile.reset_index(drop=True, inplace=True)\n",
    "\n",
    "# See if it is good.\n",
    "print(zipcodes_shapefile)"
   ]
  },
  {
   "cell_type": "code",
   "execution_count": 9,
   "metadata": {},
   "outputs": [
    {
     "output_type": "stream",
     "name": "stderr",
     "text": [
      "100%|██████████| 28/28 [00:05<00:00,  5.09it/s]\n"
     ]
    }
   ],
   "source": [
    "# Convert the coordinates.\n",
    "zipcode_polygons = list()\n",
    "for idx in tqdm(range(len(zipcodes_shapefile[\"geometry\"]))):\n",
    "    zipcode_polygons.append(batch_convert_coordinates(zipcodes_shapefile[\"geometry\"][idx].exterior.coords[:]))"
   ]
  },
  {
   "cell_type": "code",
   "execution_count": 11,
   "metadata": {},
   "outputs": [
    {
     "output_type": "stream",
     "name": "stderr",
     "text": [
      "100%|██████████| 28/28 [00:00<00:00, 72.70it/s]\n"
     ]
    }
   ],
   "source": [
    "# Create a list of gmaps Polygons for plotting.\n",
    "drawing_list = list()\n",
    "for polygon_coords in tqdm(zipcode_polygons):\n",
    "    drawing_list.append(gmaps.Polygon(polygon_coords, stroke_color=\"red\", fill_color=(217, 136, 128),))"
   ]
  },
  {
   "source": [
    "\n",
    "### Assigning Weights\n",
    "\n",
    "* We assign weights to each of the individual Polygons to create a map that is representative of how high the crime rate is."
   ],
   "cell_type": "markdown",
   "metadata": {}
  },
  {
   "cell_type": "code",
   "execution_count": 13,
   "metadata": {},
   "outputs": [],
   "source": [
    "# Load the data.\n",
    "data_path = \"/Users/administrator/Documents/Projects/abq_crime/data/processed_dataframe.pkl\"\n",
    "dataframe = pd.read_pickle(data_path)"
   ]
  },
  {
   "cell_type": "code",
   "execution_count": 90,
   "metadata": {},
   "outputs": [
    {
     "output_type": "execute_result",
     "data": {
      "text/plain": [
       "        Latitude   Longitude\n",
       "0      35.078682 -106.637350\n",
       "1      35.121313 -106.701621\n",
       "2      35.174464 -106.673685\n",
       "3      35.109201 -106.609120\n",
       "4      35.078682 -106.637350\n",
       "...          ...         ...\n",
       "29995  35.124129 -106.587242\n",
       "29996  35.068251 -106.498303\n",
       "29997  35.050188 -106.635215\n",
       "29998  35.070992 -106.749786\n",
       "29999  35.119477 -106.562480\n",
       "\n",
       "[28876 rows x 2 columns]"
      ],
      "text/html": "<div>\n<style scoped>\n    .dataframe tbody tr th:only-of-type {\n        vertical-align: middle;\n    }\n\n    .dataframe tbody tr th {\n        vertical-align: top;\n    }\n\n    .dataframe thead th {\n        text-align: right;\n    }\n</style>\n<table border=\"1\" class=\"dataframe\">\n  <thead>\n    <tr style=\"text-align: right;\">\n      <th></th>\n      <th>Latitude</th>\n      <th>Longitude</th>\n    </tr>\n  </thead>\n  <tbody>\n    <tr>\n      <th>0</th>\n      <td>35.078682</td>\n      <td>-106.637350</td>\n    </tr>\n    <tr>\n      <th>1</th>\n      <td>35.121313</td>\n      <td>-106.701621</td>\n    </tr>\n    <tr>\n      <th>2</th>\n      <td>35.174464</td>\n      <td>-106.673685</td>\n    </tr>\n    <tr>\n      <th>3</th>\n      <td>35.109201</td>\n      <td>-106.609120</td>\n    </tr>\n    <tr>\n      <th>4</th>\n      <td>35.078682</td>\n      <td>-106.637350</td>\n    </tr>\n    <tr>\n      <th>...</th>\n      <td>...</td>\n      <td>...</td>\n    </tr>\n    <tr>\n      <th>29995</th>\n      <td>35.124129</td>\n      <td>-106.587242</td>\n    </tr>\n    <tr>\n      <th>29996</th>\n      <td>35.068251</td>\n      <td>-106.498303</td>\n    </tr>\n    <tr>\n      <th>29997</th>\n      <td>35.050188</td>\n      <td>-106.635215</td>\n    </tr>\n    <tr>\n      <th>29998</th>\n      <td>35.070992</td>\n      <td>-106.749786</td>\n    </tr>\n    <tr>\n      <th>29999</th>\n      <td>35.119477</td>\n      <td>-106.562480</td>\n    </tr>\n  </tbody>\n</table>\n<p>28876 rows × 2 columns</p>\n</div>"
     },
     "metadata": {},
     "execution_count": 90
    }
   ],
   "source": [
    "# Extract the latitude and longitude information.\n",
    "coords_dataframe = dataframe[[\"Latitude\", \"Longitude\"]]\n",
    "coords_dataframe.dropna(inplace=True)\n",
    "coords_dataframe"
   ]
  },
  {
   "cell_type": "code",
   "execution_count": 19,
   "metadata": {},
   "outputs": [
    {
     "output_type": "execute_result",
     "data": {
      "text/plain": [
       "(28,)"
      ]
     },
     "metadata": {},
     "execution_count": 19
    }
   ],
   "source": [
    "# Find the zip code where it belongs. Store this information in a Numpy array.\n",
    "counts = np.zeros(len(zipcode_polygons))"
   ]
  },
  {
   "cell_type": "code",
   "execution_count": 34,
   "metadata": {},
   "outputs": [
    {
     "output_type": "stream",
     "name": "stdout",
     "text": [
      "POINT (35.07868196140473 -106.6373501693855)\n"
     ]
    }
   ],
   "source": [
    "# Test cell: tests membership of points.\n",
    "coords_array = coords_dataframe.to_numpy()\n",
    "\n",
    "# Example point\n",
    "point = shapely.geometry.Point(coords_array[0][0], coords_array[0][1])\n",
    "print(point)\n",
    "\n",
    "# Example polygon\n",
    "polygon = zipcodes_shapefile.iloc[0][\"geometry\"]\n",
    "\n",
    "# Check membership.\n",
    "for idx in range(len(zipcodes_shapefile)):\n",
    "    if zipcodes_shapefile.iloc[idx][\"geometry\"].contains(point):\n",
    "        print(idx)"
   ]
  },
  {
   "cell_type": "code",
   "execution_count": 46,
   "metadata": {},
   "outputs": [
    {
     "output_type": "stream",
     "name": "stdout",
     "text": [
      "21\n"
     ]
    }
   ],
   "source": [
    "# Test cell: tests membership of points.\n",
    "zipcode_polygons_object = [shapely.geometry.Polygon(entry) for entry in zipcode_polygons]\n",
    "\n",
    "for idx in range(len(zipcode_polygons_object)):\n",
    "    if zipcode_polygons_object[idx].contains(point):\n",
    "        print(idx)"
   ]
  },
  {
   "cell_type": "code",
   "execution_count": 71,
   "metadata": {},
   "outputs": [
    {
     "output_type": "execute_result",
     "data": {
      "text/plain": [
       "[<matplotlib.lines.Line2D at 0x7fd2177652e0>]"
      ]
     },
     "metadata": {},
     "execution_count": 71
    },
    {
     "output_type": "display_data",
     "data": {
      "text/plain": "<Figure size 432x288 with 1 Axes>",
      "image/svg+xml": "<?xml version=\"1.0\" encoding=\"utf-8\" standalone=\"no\"?>\n<!DOCTYPE svg PUBLIC \"-//W3C//DTD SVG 1.1//EN\"\n  \"http://www.w3.org/Graphics/SVG/1.1/DTD/svg11.dtd\">\n<!-- Created with matplotlib (https://matplotlib.org/) -->\n<svg height=\"248.518125pt\" version=\"1.1\" viewBox=\"0 0 396.768217 248.518125\" width=\"396.768217pt\" xmlns=\"http://www.w3.org/2000/svg\" xmlns:xlink=\"http://www.w3.org/1999/xlink\">\n <defs>\n  <style type=\"text/css\">\n*{stroke-linecap:butt;stroke-linejoin:round;}\n  </style>\n </defs>\n <g id=\"figure_1\">\n  <g id=\"patch_1\">\n   <path d=\"M 0 248.518125 \nL 396.768217 248.518125 \nL 396.768217 0 \nL 0 0 \nz\n\" style=\"fill:none;\"/>\n  </g>\n  <g id=\"axes_1\">\n   <g id=\"patch_2\">\n    <path d=\"M 42.828125 224.64 \nL 377.628125 224.64 \nL 377.628125 7.2 \nL 42.828125 7.2 \nz\n\" style=\"fill:#ffffff;\"/>\n   </g>\n   <g id=\"matplotlib.axis_1\">\n    <g id=\"xtick_1\">\n     <g id=\"line2d_1\">\n      <defs>\n       <path d=\"M 0 0 \nL 0 3.5 \n\" id=\"m4eed91d273\" style=\"stroke:#000000;stroke-width:0.8;\"/>\n      </defs>\n      <g>\n       <use style=\"stroke:#000000;stroke-width:0.8;\" x=\"43.131676\" xlink:href=\"#m4eed91d273\" y=\"224.64\"/>\n      </g>\n     </g>\n     <g id=\"text_1\">\n      <!-- −106.65 -->\n      <defs>\n       <path d=\"M 10.59375 35.5 \nL 73.1875 35.5 \nL 73.1875 27.203125 \nL 10.59375 27.203125 \nz\n\" id=\"DejaVuSans-8722\"/>\n       <path d=\"M 12.40625 8.296875 \nL 28.515625 8.296875 \nL 28.515625 63.921875 \nL 10.984375 60.40625 \nL 10.984375 69.390625 \nL 28.421875 72.90625 \nL 38.28125 72.90625 \nL 38.28125 8.296875 \nL 54.390625 8.296875 \nL 54.390625 0 \nL 12.40625 0 \nz\n\" id=\"DejaVuSans-49\"/>\n       <path d=\"M 31.78125 66.40625 \nQ 24.171875 66.40625 20.328125 58.90625 \nQ 16.5 51.421875 16.5 36.375 \nQ 16.5 21.390625 20.328125 13.890625 \nQ 24.171875 6.390625 31.78125 6.390625 \nQ 39.453125 6.390625 43.28125 13.890625 \nQ 47.125 21.390625 47.125 36.375 \nQ 47.125 51.421875 43.28125 58.90625 \nQ 39.453125 66.40625 31.78125 66.40625 \nz\nM 31.78125 74.21875 \nQ 44.046875 74.21875 50.515625 64.515625 \nQ 56.984375 54.828125 56.984375 36.375 \nQ 56.984375 17.96875 50.515625 8.265625 \nQ 44.046875 -1.421875 31.78125 -1.421875 \nQ 19.53125 -1.421875 13.0625 8.265625 \nQ 6.59375 17.96875 6.59375 36.375 \nQ 6.59375 54.828125 13.0625 64.515625 \nQ 19.53125 74.21875 31.78125 74.21875 \nz\n\" id=\"DejaVuSans-48\"/>\n       <path d=\"M 33.015625 40.375 \nQ 26.375 40.375 22.484375 35.828125 \nQ 18.609375 31.296875 18.609375 23.390625 \nQ 18.609375 15.53125 22.484375 10.953125 \nQ 26.375 6.390625 33.015625 6.390625 \nQ 39.65625 6.390625 43.53125 10.953125 \nQ 47.40625 15.53125 47.40625 23.390625 \nQ 47.40625 31.296875 43.53125 35.828125 \nQ 39.65625 40.375 33.015625 40.375 \nz\nM 52.59375 71.296875 \nL 52.59375 62.3125 \nQ 48.875 64.0625 45.09375 64.984375 \nQ 41.3125 65.921875 37.59375 65.921875 \nQ 27.828125 65.921875 22.671875 59.328125 \nQ 17.53125 52.734375 16.796875 39.40625 \nQ 19.671875 43.65625 24.015625 45.921875 \nQ 28.375 48.1875 33.59375 48.1875 \nQ 44.578125 48.1875 50.953125 41.515625 \nQ 57.328125 34.859375 57.328125 23.390625 \nQ 57.328125 12.15625 50.6875 5.359375 \nQ 44.046875 -1.421875 33.015625 -1.421875 \nQ 20.359375 -1.421875 13.671875 8.265625 \nQ 6.984375 17.96875 6.984375 36.375 \nQ 6.984375 53.65625 15.1875 63.9375 \nQ 23.390625 74.21875 37.203125 74.21875 \nQ 40.921875 74.21875 44.703125 73.484375 \nQ 48.484375 72.75 52.59375 71.296875 \nz\n\" id=\"DejaVuSans-54\"/>\n       <path d=\"M 10.6875 12.40625 \nL 21 12.40625 \nL 21 0 \nL 10.6875 0 \nz\n\" id=\"DejaVuSans-46\"/>\n       <path d=\"M 10.796875 72.90625 \nL 49.515625 72.90625 \nL 49.515625 64.59375 \nL 19.828125 64.59375 \nL 19.828125 46.734375 \nQ 21.96875 47.46875 24.109375 47.828125 \nQ 26.265625 48.1875 28.421875 48.1875 \nQ 40.625 48.1875 47.75 41.5 \nQ 54.890625 34.8125 54.890625 23.390625 \nQ 54.890625 11.625 47.5625 5.09375 \nQ 40.234375 -1.421875 26.90625 -1.421875 \nQ 22.3125 -1.421875 17.546875 -0.640625 \nQ 12.796875 0.140625 7.71875 1.703125 \nL 7.71875 11.625 \nQ 12.109375 9.234375 16.796875 8.0625 \nQ 21.484375 6.890625 26.703125 6.890625 \nQ 35.15625 6.890625 40.078125 11.328125 \nQ 45.015625 15.765625 45.015625 23.390625 \nQ 45.015625 31 40.078125 35.4375 \nQ 35.15625 39.890625 26.703125 39.890625 \nQ 22.75 39.890625 18.8125 39.015625 \nQ 14.890625 38.140625 10.796875 36.28125 \nz\n\" id=\"DejaVuSans-53\"/>\n      </defs>\n      <g transform=\"translate(21.44652 239.238437)scale(0.1 -0.1)\">\n       <use xlink:href=\"#DejaVuSans-8722\"/>\n       <use x=\"83.789062\" xlink:href=\"#DejaVuSans-49\"/>\n       <use x=\"147.412109\" xlink:href=\"#DejaVuSans-48\"/>\n       <use x=\"211.035156\" xlink:href=\"#DejaVuSans-54\"/>\n       <use x=\"274.658203\" xlink:href=\"#DejaVuSans-46\"/>\n       <use x=\"306.445312\" xlink:href=\"#DejaVuSans-54\"/>\n       <use x=\"370.068359\" xlink:href=\"#DejaVuSans-53\"/>\n      </g>\n     </g>\n    </g>\n    <g id=\"xtick_2\">\n     <g id=\"line2d_2\">\n      <g>\n       <use style=\"stroke:#000000;stroke-width:0.8;\" x=\"83.725599\" xlink:href=\"#m4eed91d273\" y=\"224.64\"/>\n      </g>\n     </g>\n     <g id=\"text_2\">\n      <!-- −106.64 -->\n      <defs>\n       <path d=\"M 37.796875 64.3125 \nL 12.890625 25.390625 \nL 37.796875 25.390625 \nz\nM 35.203125 72.90625 \nL 47.609375 72.90625 \nL 47.609375 25.390625 \nL 58.015625 25.390625 \nL 58.015625 17.1875 \nL 47.609375 17.1875 \nL 47.609375 0 \nL 37.796875 0 \nL 37.796875 17.1875 \nL 4.890625 17.1875 \nL 4.890625 26.703125 \nz\n\" id=\"DejaVuSans-52\"/>\n      </defs>\n      <g transform=\"translate(62.040443 239.238437)scale(0.1 -0.1)\">\n       <use xlink:href=\"#DejaVuSans-8722\"/>\n       <use x=\"83.789062\" xlink:href=\"#DejaVuSans-49\"/>\n       <use x=\"147.412109\" xlink:href=\"#DejaVuSans-48\"/>\n       <use x=\"211.035156\" xlink:href=\"#DejaVuSans-54\"/>\n       <use x=\"274.658203\" xlink:href=\"#DejaVuSans-46\"/>\n       <use x=\"306.445312\" xlink:href=\"#DejaVuSans-54\"/>\n       <use x=\"370.068359\" xlink:href=\"#DejaVuSans-52\"/>\n      </g>\n     </g>\n    </g>\n    <g id=\"xtick_3\">\n     <g id=\"line2d_3\">\n      <g>\n       <use style=\"stroke:#000000;stroke-width:0.8;\" x=\"124.319522\" xlink:href=\"#m4eed91d273\" y=\"224.64\"/>\n      </g>\n     </g>\n     <g id=\"text_3\">\n      <!-- −106.63 -->\n      <defs>\n       <path d=\"M 40.578125 39.3125 \nQ 47.65625 37.796875 51.625 33 \nQ 55.609375 28.21875 55.609375 21.1875 \nQ 55.609375 10.40625 48.1875 4.484375 \nQ 40.765625 -1.421875 27.09375 -1.421875 \nQ 22.515625 -1.421875 17.65625 -0.515625 \nQ 12.796875 0.390625 7.625 2.203125 \nL 7.625 11.71875 \nQ 11.71875 9.328125 16.59375 8.109375 \nQ 21.484375 6.890625 26.8125 6.890625 \nQ 36.078125 6.890625 40.9375 10.546875 \nQ 45.796875 14.203125 45.796875 21.1875 \nQ 45.796875 27.640625 41.28125 31.265625 \nQ 36.765625 34.90625 28.71875 34.90625 \nL 20.21875 34.90625 \nL 20.21875 43.015625 \nL 29.109375 43.015625 \nQ 36.375 43.015625 40.234375 45.921875 \nQ 44.09375 48.828125 44.09375 54.296875 \nQ 44.09375 59.90625 40.109375 62.90625 \nQ 36.140625 65.921875 28.71875 65.921875 \nQ 24.65625 65.921875 20.015625 65.03125 \nQ 15.375 64.15625 9.8125 62.3125 \nL 9.8125 71.09375 \nQ 15.4375 72.65625 20.34375 73.4375 \nQ 25.25 74.21875 29.59375 74.21875 \nQ 40.828125 74.21875 47.359375 69.109375 \nQ 53.90625 64.015625 53.90625 55.328125 \nQ 53.90625 49.265625 50.4375 45.09375 \nQ 46.96875 40.921875 40.578125 39.3125 \nz\n\" id=\"DejaVuSans-51\"/>\n      </defs>\n      <g transform=\"translate(102.634366 239.238437)scale(0.1 -0.1)\">\n       <use xlink:href=\"#DejaVuSans-8722\"/>\n       <use x=\"83.789062\" xlink:href=\"#DejaVuSans-49\"/>\n       <use x=\"147.412109\" xlink:href=\"#DejaVuSans-48\"/>\n       <use x=\"211.035156\" xlink:href=\"#DejaVuSans-54\"/>\n       <use x=\"274.658203\" xlink:href=\"#DejaVuSans-46\"/>\n       <use x=\"306.445312\" xlink:href=\"#DejaVuSans-54\"/>\n       <use x=\"370.068359\" xlink:href=\"#DejaVuSans-51\"/>\n      </g>\n     </g>\n    </g>\n    <g id=\"xtick_4\">\n     <g id=\"line2d_4\">\n      <g>\n       <use style=\"stroke:#000000;stroke-width:0.8;\" x=\"164.913445\" xlink:href=\"#m4eed91d273\" y=\"224.64\"/>\n      </g>\n     </g>\n     <g id=\"text_4\">\n      <!-- −106.62 -->\n      <defs>\n       <path d=\"M 19.1875 8.296875 \nL 53.609375 8.296875 \nL 53.609375 0 \nL 7.328125 0 \nL 7.328125 8.296875 \nQ 12.9375 14.109375 22.625 23.890625 \nQ 32.328125 33.6875 34.8125 36.53125 \nQ 39.546875 41.84375 41.421875 45.53125 \nQ 43.3125 49.21875 43.3125 52.78125 \nQ 43.3125 58.59375 39.234375 62.25 \nQ 35.15625 65.921875 28.609375 65.921875 \nQ 23.96875 65.921875 18.8125 64.3125 \nQ 13.671875 62.703125 7.8125 59.421875 \nL 7.8125 69.390625 \nQ 13.765625 71.78125 18.9375 73 \nQ 24.125 74.21875 28.421875 74.21875 \nQ 39.75 74.21875 46.484375 68.546875 \nQ 53.21875 62.890625 53.21875 53.421875 \nQ 53.21875 48.921875 51.53125 44.890625 \nQ 49.859375 40.875 45.40625 35.40625 \nQ 44.1875 33.984375 37.640625 27.21875 \nQ 31.109375 20.453125 19.1875 8.296875 \nz\n\" id=\"DejaVuSans-50\"/>\n      </defs>\n      <g transform=\"translate(143.228289 239.238437)scale(0.1 -0.1)\">\n       <use xlink:href=\"#DejaVuSans-8722\"/>\n       <use x=\"83.789062\" xlink:href=\"#DejaVuSans-49\"/>\n       <use x=\"147.412109\" xlink:href=\"#DejaVuSans-48\"/>\n       <use x=\"211.035156\" xlink:href=\"#DejaVuSans-54\"/>\n       <use x=\"274.658203\" xlink:href=\"#DejaVuSans-46\"/>\n       <use x=\"306.445312\" xlink:href=\"#DejaVuSans-54\"/>\n       <use x=\"370.068359\" xlink:href=\"#DejaVuSans-50\"/>\n      </g>\n     </g>\n    </g>\n    <g id=\"xtick_5\">\n     <g id=\"line2d_5\">\n      <g>\n       <use style=\"stroke:#000000;stroke-width:0.8;\" x=\"205.507368\" xlink:href=\"#m4eed91d273\" y=\"224.64\"/>\n      </g>\n     </g>\n     <g id=\"text_5\">\n      <!-- −106.61 -->\n      <g transform=\"translate(183.822212 239.238437)scale(0.1 -0.1)\">\n       <use xlink:href=\"#DejaVuSans-8722\"/>\n       <use x=\"83.789062\" xlink:href=\"#DejaVuSans-49\"/>\n       <use x=\"147.412109\" xlink:href=\"#DejaVuSans-48\"/>\n       <use x=\"211.035156\" xlink:href=\"#DejaVuSans-54\"/>\n       <use x=\"274.658203\" xlink:href=\"#DejaVuSans-46\"/>\n       <use x=\"306.445312\" xlink:href=\"#DejaVuSans-54\"/>\n       <use x=\"370.068359\" xlink:href=\"#DejaVuSans-49\"/>\n      </g>\n     </g>\n    </g>\n    <g id=\"xtick_6\">\n     <g id=\"line2d_6\">\n      <g>\n       <use style=\"stroke:#000000;stroke-width:0.8;\" x=\"246.101291\" xlink:href=\"#m4eed91d273\" y=\"224.64\"/>\n      </g>\n     </g>\n     <g id=\"text_6\">\n      <!-- −106.60 -->\n      <g transform=\"translate(224.416135 239.238437)scale(0.1 -0.1)\">\n       <use xlink:href=\"#DejaVuSans-8722\"/>\n       <use x=\"83.789062\" xlink:href=\"#DejaVuSans-49\"/>\n       <use x=\"147.412109\" xlink:href=\"#DejaVuSans-48\"/>\n       <use x=\"211.035156\" xlink:href=\"#DejaVuSans-54\"/>\n       <use x=\"274.658203\" xlink:href=\"#DejaVuSans-46\"/>\n       <use x=\"306.445312\" xlink:href=\"#DejaVuSans-54\"/>\n       <use x=\"370.068359\" xlink:href=\"#DejaVuSans-48\"/>\n      </g>\n     </g>\n    </g>\n    <g id=\"xtick_7\">\n     <g id=\"line2d_7\">\n      <g>\n       <use style=\"stroke:#000000;stroke-width:0.8;\" x=\"286.695214\" xlink:href=\"#m4eed91d273\" y=\"224.64\"/>\n      </g>\n     </g>\n     <g id=\"text_7\">\n      <!-- −106.59 -->\n      <defs>\n       <path d=\"M 10.984375 1.515625 \nL 10.984375 10.5 \nQ 14.703125 8.734375 18.5 7.8125 \nQ 22.3125 6.890625 25.984375 6.890625 \nQ 35.75 6.890625 40.890625 13.453125 \nQ 46.046875 20.015625 46.78125 33.40625 \nQ 43.953125 29.203125 39.59375 26.953125 \nQ 35.25 24.703125 29.984375 24.703125 \nQ 19.046875 24.703125 12.671875 31.3125 \nQ 6.296875 37.9375 6.296875 49.421875 \nQ 6.296875 60.640625 12.9375 67.421875 \nQ 19.578125 74.21875 30.609375 74.21875 \nQ 43.265625 74.21875 49.921875 64.515625 \nQ 56.59375 54.828125 56.59375 36.375 \nQ 56.59375 19.140625 48.40625 8.859375 \nQ 40.234375 -1.421875 26.421875 -1.421875 \nQ 22.703125 -1.421875 18.890625 -0.6875 \nQ 15.09375 0.046875 10.984375 1.515625 \nz\nM 30.609375 32.421875 \nQ 37.25 32.421875 41.125 36.953125 \nQ 45.015625 41.5 45.015625 49.421875 \nQ 45.015625 57.28125 41.125 61.84375 \nQ 37.25 66.40625 30.609375 66.40625 \nQ 23.96875 66.40625 20.09375 61.84375 \nQ 16.21875 57.28125 16.21875 49.421875 \nQ 16.21875 41.5 20.09375 36.953125 \nQ 23.96875 32.421875 30.609375 32.421875 \nz\n\" id=\"DejaVuSans-57\"/>\n      </defs>\n      <g transform=\"translate(265.010058 239.238437)scale(0.1 -0.1)\">\n       <use xlink:href=\"#DejaVuSans-8722\"/>\n       <use x=\"83.789062\" xlink:href=\"#DejaVuSans-49\"/>\n       <use x=\"147.412109\" xlink:href=\"#DejaVuSans-48\"/>\n       <use x=\"211.035156\" xlink:href=\"#DejaVuSans-54\"/>\n       <use x=\"274.658203\" xlink:href=\"#DejaVuSans-46\"/>\n       <use x=\"306.445312\" xlink:href=\"#DejaVuSans-53\"/>\n       <use x=\"370.068359\" xlink:href=\"#DejaVuSans-57\"/>\n      </g>\n     </g>\n    </g>\n    <g id=\"xtick_8\">\n     <g id=\"line2d_8\">\n      <g>\n       <use style=\"stroke:#000000;stroke-width:0.8;\" x=\"327.289137\" xlink:href=\"#m4eed91d273\" y=\"224.64\"/>\n      </g>\n     </g>\n     <g id=\"text_8\">\n      <!-- −106.58 -->\n      <defs>\n       <path d=\"M 31.78125 34.625 \nQ 24.75 34.625 20.71875 30.859375 \nQ 16.703125 27.09375 16.703125 20.515625 \nQ 16.703125 13.921875 20.71875 10.15625 \nQ 24.75 6.390625 31.78125 6.390625 \nQ 38.8125 6.390625 42.859375 10.171875 \nQ 46.921875 13.96875 46.921875 20.515625 \nQ 46.921875 27.09375 42.890625 30.859375 \nQ 38.875 34.625 31.78125 34.625 \nz\nM 21.921875 38.8125 \nQ 15.578125 40.375 12.03125 44.71875 \nQ 8.5 49.078125 8.5 55.328125 \nQ 8.5 64.0625 14.71875 69.140625 \nQ 20.953125 74.21875 31.78125 74.21875 \nQ 42.671875 74.21875 48.875 69.140625 \nQ 55.078125 64.0625 55.078125 55.328125 \nQ 55.078125 49.078125 51.53125 44.71875 \nQ 48 40.375 41.703125 38.8125 \nQ 48.828125 37.15625 52.796875 32.3125 \nQ 56.78125 27.484375 56.78125 20.515625 \nQ 56.78125 9.90625 50.3125 4.234375 \nQ 43.84375 -1.421875 31.78125 -1.421875 \nQ 19.734375 -1.421875 13.25 4.234375 \nQ 6.78125 9.90625 6.78125 20.515625 \nQ 6.78125 27.484375 10.78125 32.3125 \nQ 14.796875 37.15625 21.921875 38.8125 \nz\nM 18.3125 54.390625 \nQ 18.3125 48.734375 21.84375 45.5625 \nQ 25.390625 42.390625 31.78125 42.390625 \nQ 38.140625 42.390625 41.71875 45.5625 \nQ 45.3125 48.734375 45.3125 54.390625 \nQ 45.3125 60.0625 41.71875 63.234375 \nQ 38.140625 66.40625 31.78125 66.40625 \nQ 25.390625 66.40625 21.84375 63.234375 \nQ 18.3125 60.0625 18.3125 54.390625 \nz\n\" id=\"DejaVuSans-56\"/>\n      </defs>\n      <g transform=\"translate(305.603981 239.238437)scale(0.1 -0.1)\">\n       <use xlink:href=\"#DejaVuSans-8722\"/>\n       <use x=\"83.789062\" xlink:href=\"#DejaVuSans-49\"/>\n       <use x=\"147.412109\" xlink:href=\"#DejaVuSans-48\"/>\n       <use x=\"211.035156\" xlink:href=\"#DejaVuSans-54\"/>\n       <use x=\"274.658203\" xlink:href=\"#DejaVuSans-46\"/>\n       <use x=\"306.445312\" xlink:href=\"#DejaVuSans-53\"/>\n       <use x=\"370.068359\" xlink:href=\"#DejaVuSans-56\"/>\n      </g>\n     </g>\n    </g>\n    <g id=\"xtick_9\">\n     <g id=\"line2d_9\">\n      <g>\n       <use style=\"stroke:#000000;stroke-width:0.8;\" x=\"367.88306\" xlink:href=\"#m4eed91d273\" y=\"224.64\"/>\n      </g>\n     </g>\n     <g id=\"text_9\">\n      <!-- −106.57 -->\n      <defs>\n       <path d=\"M 8.203125 72.90625 \nL 55.078125 72.90625 \nL 55.078125 68.703125 \nL 28.609375 0 \nL 18.3125 0 \nL 43.21875 64.59375 \nL 8.203125 64.59375 \nz\n\" id=\"DejaVuSans-55\"/>\n      </defs>\n      <g transform=\"translate(346.197904 239.238437)scale(0.1 -0.1)\">\n       <use xlink:href=\"#DejaVuSans-8722\"/>\n       <use x=\"83.789062\" xlink:href=\"#DejaVuSans-49\"/>\n       <use x=\"147.412109\" xlink:href=\"#DejaVuSans-48\"/>\n       <use x=\"211.035156\" xlink:href=\"#DejaVuSans-54\"/>\n       <use x=\"274.658203\" xlink:href=\"#DejaVuSans-46\"/>\n       <use x=\"306.445312\" xlink:href=\"#DejaVuSans-53\"/>\n       <use x=\"370.068359\" xlink:href=\"#DejaVuSans-55\"/>\n      </g>\n     </g>\n    </g>\n   </g>\n   <g id=\"matplotlib.axis_2\">\n    <g id=\"ytick_1\">\n     <g id=\"line2d_10\">\n      <defs>\n       <path d=\"M 0 0 \nL -3.5 0 \n\" id=\"md5b19d4ed5\" style=\"stroke:#000000;stroke-width:0.8;\"/>\n      </defs>\n      <g>\n       <use style=\"stroke:#000000;stroke-width:0.8;\" x=\"42.828125\" xlink:href=\"#md5b19d4ed5\" y=\"217.560929\"/>\n      </g>\n     </g>\n     <g id=\"text_10\">\n      <!-- 34.98 -->\n      <g transform=\"translate(7.2 221.360148)scale(0.1 -0.1)\">\n       <use xlink:href=\"#DejaVuSans-51\"/>\n       <use x=\"63.623047\" xlink:href=\"#DejaVuSans-52\"/>\n       <use x=\"127.246094\" xlink:href=\"#DejaVuSans-46\"/>\n       <use x=\"159.033203\" xlink:href=\"#DejaVuSans-57\"/>\n       <use x=\"222.65625\" xlink:href=\"#DejaVuSans-56\"/>\n      </g>\n     </g>\n    </g>\n    <g id=\"ytick_2\">\n     <g id=\"line2d_11\">\n      <g>\n       <use style=\"stroke:#000000;stroke-width:0.8;\" x=\"42.828125\" xlink:href=\"#md5b19d4ed5\" y=\"186.159726\"/>\n      </g>\n     </g>\n     <g id=\"text_11\">\n      <!-- 35.00 -->\n      <g transform=\"translate(7.2 189.958945)scale(0.1 -0.1)\">\n       <use xlink:href=\"#DejaVuSans-51\"/>\n       <use x=\"63.623047\" xlink:href=\"#DejaVuSans-53\"/>\n       <use x=\"127.246094\" xlink:href=\"#DejaVuSans-46\"/>\n       <use x=\"159.033203\" xlink:href=\"#DejaVuSans-48\"/>\n       <use x=\"222.65625\" xlink:href=\"#DejaVuSans-48\"/>\n      </g>\n     </g>\n    </g>\n    <g id=\"ytick_3\">\n     <g id=\"line2d_12\">\n      <g>\n       <use style=\"stroke:#000000;stroke-width:0.8;\" x=\"42.828125\" xlink:href=\"#md5b19d4ed5\" y=\"154.758524\"/>\n      </g>\n     </g>\n     <g id=\"text_12\">\n      <!-- 35.02 -->\n      <g transform=\"translate(7.2 158.557743)scale(0.1 -0.1)\">\n       <use xlink:href=\"#DejaVuSans-51\"/>\n       <use x=\"63.623047\" xlink:href=\"#DejaVuSans-53\"/>\n       <use x=\"127.246094\" xlink:href=\"#DejaVuSans-46\"/>\n       <use x=\"159.033203\" xlink:href=\"#DejaVuSans-48\"/>\n       <use x=\"222.65625\" xlink:href=\"#DejaVuSans-50\"/>\n      </g>\n     </g>\n    </g>\n    <g id=\"ytick_4\">\n     <g id=\"line2d_13\">\n      <g>\n       <use style=\"stroke:#000000;stroke-width:0.8;\" x=\"42.828125\" xlink:href=\"#md5b19d4ed5\" y=\"123.357321\"/>\n      </g>\n     </g>\n     <g id=\"text_13\">\n      <!-- 35.04 -->\n      <g transform=\"translate(7.2 127.15654)scale(0.1 -0.1)\">\n       <use xlink:href=\"#DejaVuSans-51\"/>\n       <use x=\"63.623047\" xlink:href=\"#DejaVuSans-53\"/>\n       <use x=\"127.246094\" xlink:href=\"#DejaVuSans-46\"/>\n       <use x=\"159.033203\" xlink:href=\"#DejaVuSans-48\"/>\n       <use x=\"222.65625\" xlink:href=\"#DejaVuSans-52\"/>\n      </g>\n     </g>\n    </g>\n    <g id=\"ytick_5\">\n     <g id=\"line2d_14\">\n      <g>\n       <use style=\"stroke:#000000;stroke-width:0.8;\" x=\"42.828125\" xlink:href=\"#md5b19d4ed5\" y=\"91.956119\"/>\n      </g>\n     </g>\n     <g id=\"text_14\">\n      <!-- 35.06 -->\n      <g transform=\"translate(7.2 95.755337)scale(0.1 -0.1)\">\n       <use xlink:href=\"#DejaVuSans-51\"/>\n       <use x=\"63.623047\" xlink:href=\"#DejaVuSans-53\"/>\n       <use x=\"127.246094\" xlink:href=\"#DejaVuSans-46\"/>\n       <use x=\"159.033203\" xlink:href=\"#DejaVuSans-48\"/>\n       <use x=\"222.65625\" xlink:href=\"#DejaVuSans-54\"/>\n      </g>\n     </g>\n    </g>\n    <g id=\"ytick_6\">\n     <g id=\"line2d_15\">\n      <g>\n       <use style=\"stroke:#000000;stroke-width:0.8;\" x=\"42.828125\" xlink:href=\"#md5b19d4ed5\" y=\"60.554916\"/>\n      </g>\n     </g>\n     <g id=\"text_15\">\n      <!-- 35.08 -->\n      <g transform=\"translate(7.2 64.354135)scale(0.1 -0.1)\">\n       <use xlink:href=\"#DejaVuSans-51\"/>\n       <use x=\"63.623047\" xlink:href=\"#DejaVuSans-53\"/>\n       <use x=\"127.246094\" xlink:href=\"#DejaVuSans-46\"/>\n       <use x=\"159.033203\" xlink:href=\"#DejaVuSans-48\"/>\n       <use x=\"222.65625\" xlink:href=\"#DejaVuSans-56\"/>\n      </g>\n     </g>\n    </g>\n    <g id=\"ytick_7\">\n     <g id=\"line2d_16\">\n      <g>\n       <use style=\"stroke:#000000;stroke-width:0.8;\" x=\"42.828125\" xlink:href=\"#md5b19d4ed5\" y=\"29.153713\"/>\n      </g>\n     </g>\n     <g id=\"text_16\">\n      <!-- 35.10 -->\n      <g transform=\"translate(7.2 32.952932)scale(0.1 -0.1)\">\n       <use xlink:href=\"#DejaVuSans-51\"/>\n       <use x=\"63.623047\" xlink:href=\"#DejaVuSans-53\"/>\n       <use x=\"127.246094\" xlink:href=\"#DejaVuSans-46\"/>\n       <use x=\"159.033203\" xlink:href=\"#DejaVuSans-49\"/>\n       <use x=\"222.65625\" xlink:href=\"#DejaVuSans-48\"/>\n      </g>\n     </g>\n    </g>\n   </g>\n   <g id=\"line2d_17\">\n    <path clip-path=\"url(#p837a4127c4)\" d=\"M 226.229401 20.752282 \nL 226.199269 23.741529 \nL 224.339362 23.739991 \nL 224.461684 25.394445 \nL 226.188124 25.40733 \nL 226.474711 26.238339 \nL 226.452348 28.857658 \nL 226.827138 29.074448 \nL 227.071727 30.442398 \nL 226.471545 33.09303 \nL 226.514906 33.587863 \nL 226.848949 34.604737 \nL 226.886493 36.523397 \nL 227.347346 36.915623 \nL 228.396554 37.336969 \nL 227.148373 37.546269 \nL 227.218847 38.190448 \nL 228.905339 38.18346 \nL 229.053805 42.715728 \nL 227.425246 42.802798 \nL 227.472705 43.195617 \nL 227.026826 43.198853 \nL 226.999454 47.744012 \nL 229.099227 47.736068 \nL 228.850459 48.802952 \nL 231.02974 49.07524 \nL 231.0695 59.938449 \nL 229.09618 59.942359 \nL 227.741554 60.059331 \nL 227.765673 61.723473 \nL 228.184312 61.776392 \nL 230.123327 61.85593 \nL 228.987664 63.089806 \nL 228.97792 63.73354 \nL 230.072449 63.733519 \nL 230.001819 70.709586 \nL 230.058742 71.725059 \nL 229.799248 71.723094 \nL 229.275957 71.844031 \nL 227.753675 71.863848 \nL 227.771893 73.524493 \nL 230.483448 73.516919 \nL 230.528827 78.945002 \nL 230.416658 82.091956 \nL 230.873643 82.508581 \nL 231.281963 82.533429 \nL 231.432739 82.672485 \nL 231.433121 83.067652 \nL 230.295724 83.069237 \nL 230.179331 83.750236 \nL 228.714919 83.748869 \nL 228.718886 84.537102 \nL 229.387161 84.50435 \nL 231.255091 84.531599 \nL 231.388911 84.670911 \nL 231.370178 85.594389 \nL 230.040051 85.720995 \nL 230.037294 86.063485 \nL 231.822684 86.464626 \nL 231.804326 87.192825 \nL 230.378913 87.539989 \nL 230.402821 89.103232 \nL 230.352297 92.974431 \nL 230.534723 93.239995 \nL 230.500926 93.629305 \nL 231.540806 93.631295 \nL 231.601799 94.715136 \nL 228.670779 94.719292 \nL 228.66018 94.910873 \nL 208.86407 94.851837 \nL 205.369848 113.71266 \nL 335.178988 114.028067 \nL 335.189892 113.582844 \nL 347.304405 113.612955 \nL 347.239055 116.267689 \nL 362.409943 116.305566 \nL 362.329679 119.55185 \nL 224.485994 119.219291 \nL 212.312643 129.750544 \nL 220.676125 131.912512 \nL 192.462106 139.575281 \nL 214.987097 139.615452 \nL 214.41713 143.033911 \nL 214.591714 143.587932 \nL 214.945758 144.364782 \nL 214.80806 144.858303 \nL 214.363734 145.33317 \nL 213.905516 145.629913 \nL 208.703742 148.623607 \nL 208.522972 148.792944 \nL 186.206311 153.087815 \nL 175.420488 154.688154 \nL 175.705498 162.311015 \nL 157.50016 162.26465 \nL 157.313855 176.069529 \nL 179.083951 181.269323 \nL 187.254508 180.705437 \nL 189.141486 180.609272 \nL 189.369319 175.862326 \nL 210.019935 175.962887 \nL 209.535134 186.030558 \nL 195.004671 185.959773 \nL 196.865261 188.036043 \nL 199.451462 191.270138 \nL 207.248703 191.280084 \nL 205.072961 204.160444 \nL 205.408563 204.391498 \nL 205.336396 204.582436 \nL 204.998469 204.741858 \nL 204.26972 204.846689 \nL 203.670502 204.822075 \nL 187.159714 209.92647 \nL 183.835715 208.837254 \nL 181.075347 209.691075 \nL 181.234525 209.743235 \nL 187.941264 211.940939 \nL 187.82953 211.97545 \nL 185.443736 212.645402 \nL 183.189489 213.046832 \nL 181.353878 213.24548 \nL 162.703974 214.756364 \nL 161.206697 212.883383 \nL 163.097942 212.730188 \nL 162.40253 211.747395 \nL 162.312666 211.134956 \nL 162.534743 210.525938 \nL 162.85355 210.129742 \nL 163.692289 209.281189 \nL 157.598425 208.670882 \nL 158.704739 207.551563 \nL 156.54139 207.445801 \nL 155.450866 207.528236 \nL 154.827266 207.568697 \nL 154.606669 207.292768 \nL 154.710676 207.278064 \nL 154.959268 207.104497 \nL 155.435046 206.966756 \nL 155.622407 206.948835 \nL 159.47078 202.921733 \nL 159.365709 202.60945 \nL 159.255879 202.494659 \nL 157.038322 200.547396 \nL 85.596782 208.891313 \nL 79.696044 208.8431 \nL 62.25753 203.613815 \nL 61.474376 203.495676 \nL 62.521207 203.577369 \nL 64.471731 203.568005 \nL 65.59465 203.514989 \nL 65.29674 202.875105 \nL 62.571367 202.923095 \nL 61.011202 202.687303 \nL 60.098617 202.355275 \nL 59.798299 202.155474 \nL 58.19206 200.660853 \nL 58.046416 200.144037 \nL 58.164102 199.699932 \nL 58.570624 199.208608 \nL 59.16644 198.796819 \nL 60.399112 198.262715 \nL 65.019906 196.675846 \nL 66.425292 195.853414 \nL 67.166421 195.191637 \nL 67.624236 194.504354 \nL 68.927668 191.860633 \nL 69.838526 190.583526 \nL 71.348631 188.885146 \nL 77.661047 182.121422 \nL 78.718588 181.479595 \nL 80.246999 180.838109 \nL 82.303638 180.241956 \nL 84.679935 179.781645 \nL 87.620802 179.437178 \nL 90.097504 179.315647 \nL 115.116027 178.682698 \nL 118.103563 178.385436 \nL 120.214141 178.015239 \nL 138.760274 174.055197 \nL 135.494751 171.552044 \nL 134.031874 170.909106 \nL 132.196807 170.371449 \nL 101.288635 162.985725 \nL 85.901657 163.150582 \nL 83.729895 162.941893 \nL 88.745533 157.349035 \nL 91.561937 149.278367 \nL 87.258578 148.856611 \nL 88.78805 145.312923 \nL 89.925649 115.710575 \nL 90.308803 111.11836 \nL 92.111534 92.988638 \nL 85.314097 76.59551 \nL 83.893332 69.177258 \nL 92.668646 64.511611 \nL 97.779253 56.356232 \nL 99.752768 52.397903 \nL 101.450318 52.51229 \nL 102.923401 49.788374 \nL 110.325243 49.205544 \nL 113.364663 49.193202 \nL 113.988185 48.571437 \nL 116.092383 47.532039 \nL 119.874385 45.505474 \nL 120.325412 44.734072 \nL 116.250129 44.028041 \nL 115.357797 43.678861 \nL 117.027041 43.187949 \nL 119.383457 43.662104 \nL 120.356901 43.601402 \nL 126.507306 44.092816 \nL 126.986079 44.204191 \nL 132.076663 44.74147 \nL 139.334365 46.017412 \nL 142.632141 46.184269 \nL 142.771852 44.610458 \nL 143.567686 44.381146 \nL 167.40512 48.602083 \nL 167.552904 49.637258 \nL 148.329209 49.996539 \nL 142.505093 49.757606 \nL 141.763013 51.259751 \nL 139.503512 55.239937 \nL 138.304533 55.966114 \nL 137.220299 58.357343 \nL 148.652213 58.969187 \nL 156.604116 59.033064 \nL 192.695243 58.943297 \nL 192.581913 53.241055 \nL 184.937942 51.809538 \nL 185.532031 51.106879 \nL 185.510265 48.884935 \nL 180.599644 48.802347 \nL 180.533694 43.24195 \nL 174.873657 43.205168 \nL 175.039984 31.807519 \nL 157.139367 31.807061 \nL 157.35695 26.064939 \nL 151.834664 26.192292 \nL 146.430199 27.100353 \nL 148.471209 21.796078 \nL 150.578372 20.820074 \nL 152.052527 20.367007 \nL 154.619586 19.843239 \nL 154.355691 19.656889 \nL 148.818067 18.987287 \nL 171.693051 17.083636 \nL 186.368429 17.351196 \nL 216.437116 20.17671 \nL 226.229401 20.752282 \nL 226.229401 20.752282 \n\" style=\"fill:none;stroke:#1f77b4;stroke-linecap:square;stroke-width:1.5;\"/>\n   </g>\n   <g id=\"line2d_18\">\n    <defs>\n     <path d=\"M 0 3 \nC 0.795609 3 1.55874 2.683901 2.12132 2.12132 \nC 2.683901 1.55874 3 0.795609 3 0 \nC 3 -0.795609 2.683901 -1.55874 2.12132 -2.12132 \nC 1.55874 -2.683901 0.795609 -3 0 -3 \nC -0.795609 -3 -1.55874 -2.683901 -2.12132 -2.12132 \nC -2.683901 -1.55874 -3 -0.795609 -3 0 \nC -3 0.795609 -2.683901 1.55874 -2.12132 2.12132 \nC -1.55874 2.683901 -0.795609 3 0 3 \nz\n\" id=\"mfc49efdd0c\" style=\"stroke:#ff0000;\"/>\n    </defs>\n    <g clip-path=\"url(#p837a4127c4)\">\n     <use style=\"fill:#ff0000;stroke:#ff0000;\" x=\"94.482301\" xlink:href=\"#mfc49efdd0c\" y=\"62.624316\"/>\n    </g>\n   </g>\n   <g id=\"patch_3\">\n    <path d=\"M 42.828125 224.64 \nL 42.828125 7.2 \n\" style=\"fill:none;stroke:#000000;stroke-linecap:square;stroke-linejoin:miter;stroke-width:0.8;\"/>\n   </g>\n   <g id=\"patch_4\">\n    <path d=\"M 377.628125 224.64 \nL 377.628125 7.2 \n\" style=\"fill:none;stroke:#000000;stroke-linecap:square;stroke-linejoin:miter;stroke-width:0.8;\"/>\n   </g>\n   <g id=\"patch_5\">\n    <path d=\"M 42.828125 224.64 \nL 377.628125 224.64 \n\" style=\"fill:none;stroke:#000000;stroke-linecap:square;stroke-linejoin:miter;stroke-width:0.8;\"/>\n   </g>\n   <g id=\"patch_6\">\n    <path d=\"M 42.828125 7.2 \nL 377.628125 7.2 \n\" style=\"fill:none;stroke:#000000;stroke-linecap:square;stroke-linejoin:miter;stroke-width:0.8;\"/>\n   </g>\n  </g>\n </g>\n <defs>\n  <clipPath id=\"p837a4127c4\">\n   <rect height=\"217.44\" width=\"334.8\" x=\"42.828125\" y=\"7.2\"/>\n  </clipPath>\n </defs>\n</svg>\n",
      "image/png": "[encoded data removed]"
     },
     "metadata": {
      "needs_background": "light"
     }
    }
   ],
   "source": [
    "# Test cell: tests membership of points.\n",
    "plt.plot(*zipcode_polygons_object[21].exterior.xy[::-1])\n",
    "plt.plot(*point.xy[::-1], \"ro\")"
   ]
  },
  {
   "cell_type": "code",
   "execution_count": 93,
   "metadata": {},
   "outputs": [],
   "source": [
    "def test_membership(coords):\n",
    "    point = shapely.geometry.Point(coords[0], coords[1])\n",
    "    for idx in range(len(zipcode_polygons_object)):\n",
    "        if zipcode_polygons_object[idx].contains(point):\n",
    "            return idx\n",
    "    return -1"
   ]
  },
  {
   "cell_type": "code",
   "execution_count": 94,
   "metadata": {
    "tags": []
   },
   "outputs": [
    {
     "output_type": "stream",
     "name": "stderr",
     "text": [
      "28876it [00:08, 3509.05it/s]\n"
     ]
    }
   ],
   "source": [
    "for row in tqdm(coords_dataframe.itertuples()):\n",
    "    coord = (row[1], row[2])\n",
    "    zip_index = test_membership(coord)\n",
    "    if (zip_index != -1):\n",
    "        counts[zip_index] += 1"
   ]
  },
  {
   "cell_type": "code",
   "execution_count": 97,
   "metadata": {},
   "outputs": [],
   "source": [
    "counts = counts / counts.sum()"
   ]
  },
  {
   "cell_type": "code",
   "execution_count": 98,
   "metadata": {},
   "outputs": [
    {
     "output_type": "execute_result",
     "data": {
      "text/plain": [
       "[<matplotlib.lines.Line2D at 0x7fd1f88cafd0>]"
      ]
     },
     "metadata": {},
     "execution_count": 98
    },
    {
     "output_type": "display_data",
     "data": {
      "text/plain": "<Figure size 432x288 with 1 Axes>",
      "image/svg+xml": "<?xml version=\"1.0\" encoding=\"utf-8\" standalone=\"no\"?>\n<!DOCTYPE svg PUBLIC \"-//W3C//DTD SVG 1.1//EN\"\n  \"http://www.w3.org/Graphics/SVG/1.1/DTD/svg11.dtd\">\n<!-- Created with matplotlib (https://matplotlib.org/) -->\n<svg height=\"248.518125pt\" version=\"1.1\" viewBox=\"0 0 378.465625 248.518125\" width=\"378.465625pt\" xmlns=\"http://www.w3.org/2000/svg\" xmlns:xlink=\"http://www.w3.org/1999/xlink\">\n <defs>\n  <style type=\"text/css\">\n*{stroke-linecap:butt;stroke-linejoin:round;}\n  </style>\n </defs>\n <g id=\"figure_1\">\n  <g id=\"patch_1\">\n   <path d=\"M 0 248.518125 \nL 378.465625 248.518125 \nL 378.465625 0 \nL 0 0 \nz\n\" style=\"fill:none;\"/>\n  </g>\n  <g id=\"axes_1\">\n   <g id=\"patch_2\">\n    <path d=\"M 36.465625 224.64 \nL 371.265625 224.64 \nL 371.265625 7.2 \nL 36.465625 7.2 \nz\n\" style=\"fill:#ffffff;\"/>\n   </g>\n   <g id=\"matplotlib.axis_1\">\n    <g id=\"xtick_1\">\n     <g id=\"line2d_1\">\n      <defs>\n       <path d=\"M 0 0 \nL 0 3.5 \n\" id=\"m3ad2f77191\" style=\"stroke:#000000;stroke-width:0.8;\"/>\n      </defs>\n      <g>\n       <use style=\"stroke:#000000;stroke-width:0.8;\" x=\"51.683807\" xlink:href=\"#m3ad2f77191\" y=\"224.64\"/>\n      </g>\n     </g>\n     <g id=\"text_1\">\n      <!-- 0 -->\n      <defs>\n       <path d=\"M 31.78125 66.40625 \nQ 24.171875 66.40625 20.328125 58.90625 \nQ 16.5 51.421875 16.5 36.375 \nQ 16.5 21.390625 20.328125 13.890625 \nQ 24.171875 6.390625 31.78125 6.390625 \nQ 39.453125 6.390625 43.28125 13.890625 \nQ 47.125 21.390625 47.125 36.375 \nQ 47.125 51.421875 43.28125 58.90625 \nQ 39.453125 66.40625 31.78125 66.40625 \nz\nM 31.78125 74.21875 \nQ 44.046875 74.21875 50.515625 64.515625 \nQ 56.984375 54.828125 56.984375 36.375 \nQ 56.984375 17.96875 50.515625 8.265625 \nQ 44.046875 -1.421875 31.78125 -1.421875 \nQ 19.53125 -1.421875 13.0625 8.265625 \nQ 6.59375 17.96875 6.59375 36.375 \nQ 6.59375 54.828125 13.0625 64.515625 \nQ 19.53125 74.21875 31.78125 74.21875 \nz\n\" id=\"DejaVuSans-48\"/>\n      </defs>\n      <g transform=\"translate(48.502557 239.238437)scale(0.1 -0.1)\">\n       <use xlink:href=\"#DejaVuSans-48\"/>\n      </g>\n     </g>\n    </g>\n    <g id=\"xtick_2\">\n     <g id=\"line2d_2\">\n      <g>\n       <use style=\"stroke:#000000;stroke-width:0.8;\" x=\"108.047443\" xlink:href=\"#m3ad2f77191\" y=\"224.64\"/>\n      </g>\n     </g>\n     <g id=\"text_2\">\n      <!-- 5 -->\n      <defs>\n       <path d=\"M 10.796875 72.90625 \nL 49.515625 72.90625 \nL 49.515625 64.59375 \nL 19.828125 64.59375 \nL 19.828125 46.734375 \nQ 21.96875 47.46875 24.109375 47.828125 \nQ 26.265625 48.1875 28.421875 48.1875 \nQ 40.625 48.1875 47.75 41.5 \nQ 54.890625 34.8125 54.890625 23.390625 \nQ 54.890625 11.625 47.5625 5.09375 \nQ 40.234375 -1.421875 26.90625 -1.421875 \nQ 22.3125 -1.421875 17.546875 -0.640625 \nQ 12.796875 0.140625 7.71875 1.703125 \nL 7.71875 11.625 \nQ 12.109375 9.234375 16.796875 8.0625 \nQ 21.484375 6.890625 26.703125 6.890625 \nQ 35.15625 6.890625 40.078125 11.328125 \nQ 45.015625 15.765625 45.015625 23.390625 \nQ 45.015625 31 40.078125 35.4375 \nQ 35.15625 39.890625 26.703125 39.890625 \nQ 22.75 39.890625 18.8125 39.015625 \nQ 14.890625 38.140625 10.796875 36.28125 \nz\n\" id=\"DejaVuSans-53\"/>\n      </defs>\n      <g transform=\"translate(104.866193 239.238437)scale(0.1 -0.1)\">\n       <use xlink:href=\"#DejaVuSans-53\"/>\n      </g>\n     </g>\n    </g>\n    <g id=\"xtick_3\">\n     <g id=\"line2d_3\">\n      <g>\n       <use style=\"stroke:#000000;stroke-width:0.8;\" x=\"164.41108\" xlink:href=\"#m3ad2f77191\" y=\"224.64\"/>\n      </g>\n     </g>\n     <g id=\"text_3\">\n      <!-- 10 -->\n      <defs>\n       <path d=\"M 12.40625 8.296875 \nL 28.515625 8.296875 \nL 28.515625 63.921875 \nL 10.984375 60.40625 \nL 10.984375 69.390625 \nL 28.421875 72.90625 \nL 38.28125 72.90625 \nL 38.28125 8.296875 \nL 54.390625 8.296875 \nL 54.390625 0 \nL 12.40625 0 \nz\n\" id=\"DejaVuSans-49\"/>\n      </defs>\n      <g transform=\"translate(158.04858 239.238437)scale(0.1 -0.1)\">\n       <use xlink:href=\"#DejaVuSans-49\"/>\n       <use x=\"63.623047\" xlink:href=\"#DejaVuSans-48\"/>\n      </g>\n     </g>\n    </g>\n    <g id=\"xtick_4\">\n     <g id=\"line2d_4\">\n      <g>\n       <use style=\"stroke:#000000;stroke-width:0.8;\" x=\"220.774716\" xlink:href=\"#m3ad2f77191\" y=\"224.64\"/>\n      </g>\n     </g>\n     <g id=\"text_4\">\n      <!-- 15 -->\n      <g transform=\"translate(214.412216 239.238437)scale(0.1 -0.1)\">\n       <use xlink:href=\"#DejaVuSans-49\"/>\n       <use x=\"63.623047\" xlink:href=\"#DejaVuSans-53\"/>\n      </g>\n     </g>\n    </g>\n    <g id=\"xtick_5\">\n     <g id=\"line2d_5\">\n      <g>\n       <use style=\"stroke:#000000;stroke-width:0.8;\" x=\"277.138352\" xlink:href=\"#m3ad2f77191\" y=\"224.64\"/>\n      </g>\n     </g>\n     <g id=\"text_5\">\n      <!-- 20 -->\n      <defs>\n       <path d=\"M 19.1875 8.296875 \nL 53.609375 8.296875 \nL 53.609375 0 \nL 7.328125 0 \nL 7.328125 8.296875 \nQ 12.9375 14.109375 22.625 23.890625 \nQ 32.328125 33.6875 34.8125 36.53125 \nQ 39.546875 41.84375 41.421875 45.53125 \nQ 43.3125 49.21875 43.3125 52.78125 \nQ 43.3125 58.59375 39.234375 62.25 \nQ 35.15625 65.921875 28.609375 65.921875 \nQ 23.96875 65.921875 18.8125 64.3125 \nQ 13.671875 62.703125 7.8125 59.421875 \nL 7.8125 69.390625 \nQ 13.765625 71.78125 18.9375 73 \nQ 24.125 74.21875 28.421875 74.21875 \nQ 39.75 74.21875 46.484375 68.546875 \nQ 53.21875 62.890625 53.21875 53.421875 \nQ 53.21875 48.921875 51.53125 44.890625 \nQ 49.859375 40.875 45.40625 35.40625 \nQ 44.1875 33.984375 37.640625 27.21875 \nQ 31.109375 20.453125 19.1875 8.296875 \nz\n\" id=\"DejaVuSans-50\"/>\n      </defs>\n      <g transform=\"translate(270.775852 239.238437)scale(0.1 -0.1)\">\n       <use xlink:href=\"#DejaVuSans-50\"/>\n       <use x=\"63.623047\" xlink:href=\"#DejaVuSans-48\"/>\n      </g>\n     </g>\n    </g>\n    <g id=\"xtick_6\">\n     <g id=\"line2d_6\">\n      <g>\n       <use style=\"stroke:#000000;stroke-width:0.8;\" x=\"333.501989\" xlink:href=\"#m3ad2f77191\" y=\"224.64\"/>\n      </g>\n     </g>\n     <g id=\"text_6\">\n      <!-- 25 -->\n      <g transform=\"translate(327.139489 239.238437)scale(0.1 -0.1)\">\n       <use xlink:href=\"#DejaVuSans-50\"/>\n       <use x=\"63.623047\" xlink:href=\"#DejaVuSans-53\"/>\n      </g>\n     </g>\n    </g>\n   </g>\n   <g id=\"matplotlib.axis_2\">\n    <g id=\"ytick_1\">\n     <g id=\"line2d_7\">\n      <defs>\n       <path d=\"M 0 0 \nL -3.5 0 \n\" id=\"maedae210b7\" style=\"stroke:#000000;stroke-width:0.8;\"/>\n      </defs>\n      <g>\n       <use style=\"stroke:#000000;stroke-width:0.8;\" x=\"36.465625\" xlink:href=\"#maedae210b7\" y=\"214.756364\"/>\n      </g>\n     </g>\n     <g id=\"text_7\">\n      <!-- 0.00 -->\n      <defs>\n       <path d=\"M 10.6875 12.40625 \nL 21 12.40625 \nL 21 0 \nL 10.6875 0 \nz\n\" id=\"DejaVuSans-46\"/>\n      </defs>\n      <g transform=\"translate(7.2 218.555582)scale(0.1 -0.1)\">\n       <use xlink:href=\"#DejaVuSans-48\"/>\n       <use x=\"63.623047\" xlink:href=\"#DejaVuSans-46\"/>\n       <use x=\"95.410156\" xlink:href=\"#DejaVuSans-48\"/>\n       <use x=\"159.033203\" xlink:href=\"#DejaVuSans-48\"/>\n      </g>\n     </g>\n    </g>\n    <g id=\"ytick_2\">\n     <g id=\"line2d_8\">\n      <g>\n       <use style=\"stroke:#000000;stroke-width:0.8;\" x=\"36.465625\" xlink:href=\"#maedae210b7\" y=\"184.765786\"/>\n      </g>\n     </g>\n     <g id=\"text_8\">\n      <!-- 0.02 -->\n      <g transform=\"translate(7.2 188.565004)scale(0.1 -0.1)\">\n       <use xlink:href=\"#DejaVuSans-48\"/>\n       <use x=\"63.623047\" xlink:href=\"#DejaVuSans-46\"/>\n       <use x=\"95.410156\" xlink:href=\"#DejaVuSans-48\"/>\n       <use x=\"159.033203\" xlink:href=\"#DejaVuSans-50\"/>\n      </g>\n     </g>\n    </g>\n    <g id=\"ytick_3\">\n     <g id=\"line2d_9\">\n      <g>\n       <use style=\"stroke:#000000;stroke-width:0.8;\" x=\"36.465625\" xlink:href=\"#maedae210b7\" y=\"154.775208\"/>\n      </g>\n     </g>\n     <g id=\"text_9\">\n      <!-- 0.04 -->\n      <defs>\n       <path d=\"M 37.796875 64.3125 \nL 12.890625 25.390625 \nL 37.796875 25.390625 \nz\nM 35.203125 72.90625 \nL 47.609375 72.90625 \nL 47.609375 25.390625 \nL 58.015625 25.390625 \nL 58.015625 17.1875 \nL 47.609375 17.1875 \nL 47.609375 0 \nL 37.796875 0 \nL 37.796875 17.1875 \nL 4.890625 17.1875 \nL 4.890625 26.703125 \nz\n\" id=\"DejaVuSans-52\"/>\n      </defs>\n      <g transform=\"translate(7.2 158.574427)scale(0.1 -0.1)\">\n       <use xlink:href=\"#DejaVuSans-48\"/>\n       <use x=\"63.623047\" xlink:href=\"#DejaVuSans-46\"/>\n       <use x=\"95.410156\" xlink:href=\"#DejaVuSans-48\"/>\n       <use x=\"159.033203\" xlink:href=\"#DejaVuSans-52\"/>\n      </g>\n     </g>\n    </g>\n    <g id=\"ytick_4\">\n     <g id=\"line2d_10\">\n      <g>\n       <use style=\"stroke:#000000;stroke-width:0.8;\" x=\"36.465625\" xlink:href=\"#maedae210b7\" y=\"124.78463\"/>\n      </g>\n     </g>\n     <g id=\"text_10\">\n      <!-- 0.06 -->\n      <defs>\n       <path d=\"M 33.015625 40.375 \nQ 26.375 40.375 22.484375 35.828125 \nQ 18.609375 31.296875 18.609375 23.390625 \nQ 18.609375 15.53125 22.484375 10.953125 \nQ 26.375 6.390625 33.015625 6.390625 \nQ 39.65625 6.390625 43.53125 10.953125 \nQ 47.40625 15.53125 47.40625 23.390625 \nQ 47.40625 31.296875 43.53125 35.828125 \nQ 39.65625 40.375 33.015625 40.375 \nz\nM 52.59375 71.296875 \nL 52.59375 62.3125 \nQ 48.875 64.0625 45.09375 64.984375 \nQ 41.3125 65.921875 37.59375 65.921875 \nQ 27.828125 65.921875 22.671875 59.328125 \nQ 17.53125 52.734375 16.796875 39.40625 \nQ 19.671875 43.65625 24.015625 45.921875 \nQ 28.375 48.1875 33.59375 48.1875 \nQ 44.578125 48.1875 50.953125 41.515625 \nQ 57.328125 34.859375 57.328125 23.390625 \nQ 57.328125 12.15625 50.6875 5.359375 \nQ 44.046875 -1.421875 33.015625 -1.421875 \nQ 20.359375 -1.421875 13.671875 8.265625 \nQ 6.984375 17.96875 6.984375 36.375 \nQ 6.984375 53.65625 15.1875 63.9375 \nQ 23.390625 74.21875 37.203125 74.21875 \nQ 40.921875 74.21875 44.703125 73.484375 \nQ 48.484375 72.75 52.59375 71.296875 \nz\n\" id=\"DejaVuSans-54\"/>\n      </defs>\n      <g transform=\"translate(7.2 128.583849)scale(0.1 -0.1)\">\n       <use xlink:href=\"#DejaVuSans-48\"/>\n       <use x=\"63.623047\" xlink:href=\"#DejaVuSans-46\"/>\n       <use x=\"95.410156\" xlink:href=\"#DejaVuSans-48\"/>\n       <use x=\"159.033203\" xlink:href=\"#DejaVuSans-54\"/>\n      </g>\n     </g>\n    </g>\n    <g id=\"ytick_5\">\n     <g id=\"line2d_11\">\n      <g>\n       <use style=\"stroke:#000000;stroke-width:0.8;\" x=\"36.465625\" xlink:href=\"#maedae210b7\" y=\"94.794052\"/>\n      </g>\n     </g>\n     <g id=\"text_11\">\n      <!-- 0.08 -->\n      <defs>\n       <path d=\"M 31.78125 34.625 \nQ 24.75 34.625 20.71875 30.859375 \nQ 16.703125 27.09375 16.703125 20.515625 \nQ 16.703125 13.921875 20.71875 10.15625 \nQ 24.75 6.390625 31.78125 6.390625 \nQ 38.8125 6.390625 42.859375 10.171875 \nQ 46.921875 13.96875 46.921875 20.515625 \nQ 46.921875 27.09375 42.890625 30.859375 \nQ 38.875 34.625 31.78125 34.625 \nz\nM 21.921875 38.8125 \nQ 15.578125 40.375 12.03125 44.71875 \nQ 8.5 49.078125 8.5 55.328125 \nQ 8.5 64.0625 14.71875 69.140625 \nQ 20.953125 74.21875 31.78125 74.21875 \nQ 42.671875 74.21875 48.875 69.140625 \nQ 55.078125 64.0625 55.078125 55.328125 \nQ 55.078125 49.078125 51.53125 44.71875 \nQ 48 40.375 41.703125 38.8125 \nQ 48.828125 37.15625 52.796875 32.3125 \nQ 56.78125 27.484375 56.78125 20.515625 \nQ 56.78125 9.90625 50.3125 4.234375 \nQ 43.84375 -1.421875 31.78125 -1.421875 \nQ 19.734375 -1.421875 13.25 4.234375 \nQ 6.78125 9.90625 6.78125 20.515625 \nQ 6.78125 27.484375 10.78125 32.3125 \nQ 14.796875 37.15625 21.921875 38.8125 \nz\nM 18.3125 54.390625 \nQ 18.3125 48.734375 21.84375 45.5625 \nQ 25.390625 42.390625 31.78125 42.390625 \nQ 38.140625 42.390625 41.71875 45.5625 \nQ 45.3125 48.734375 45.3125 54.390625 \nQ 45.3125 60.0625 41.71875 63.234375 \nQ 38.140625 66.40625 31.78125 66.40625 \nQ 25.390625 66.40625 21.84375 63.234375 \nQ 18.3125 60.0625 18.3125 54.390625 \nz\n\" id=\"DejaVuSans-56\"/>\n      </defs>\n      <g transform=\"translate(7.2 98.593271)scale(0.1 -0.1)\">\n       <use xlink:href=\"#DejaVuSans-48\"/>\n       <use x=\"63.623047\" xlink:href=\"#DejaVuSans-46\"/>\n       <use x=\"95.410156\" xlink:href=\"#DejaVuSans-48\"/>\n       <use x=\"159.033203\" xlink:href=\"#DejaVuSans-56\"/>\n      </g>\n     </g>\n    </g>\n    <g id=\"ytick_6\">\n     <g id=\"line2d_12\">\n      <g>\n       <use style=\"stroke:#000000;stroke-width:0.8;\" x=\"36.465625\" xlink:href=\"#maedae210b7\" y=\"64.803474\"/>\n      </g>\n     </g>\n     <g id=\"text_12\">\n      <!-- 0.10 -->\n      <g transform=\"translate(7.2 68.602693)scale(0.1 -0.1)\">\n       <use xlink:href=\"#DejaVuSans-48\"/>\n       <use x=\"63.623047\" xlink:href=\"#DejaVuSans-46\"/>\n       <use x=\"95.410156\" xlink:href=\"#DejaVuSans-49\"/>\n       <use x=\"159.033203\" xlink:href=\"#DejaVuSans-48\"/>\n      </g>\n     </g>\n    </g>\n    <g id=\"ytick_7\">\n     <g id=\"line2d_13\">\n      <g>\n       <use style=\"stroke:#000000;stroke-width:0.8;\" x=\"36.465625\" xlink:href=\"#maedae210b7\" y=\"34.812896\"/>\n      </g>\n     </g>\n     <g id=\"text_13\">\n      <!-- 0.12 -->\n      <g transform=\"translate(7.2 38.612115)scale(0.1 -0.1)\">\n       <use xlink:href=\"#DejaVuSans-48\"/>\n       <use x=\"63.623047\" xlink:href=\"#DejaVuSans-46\"/>\n       <use x=\"95.410156\" xlink:href=\"#DejaVuSans-49\"/>\n       <use x=\"159.033203\" xlink:href=\"#DejaVuSans-50\"/>\n      </g>\n     </g>\n    </g>\n   </g>\n   <g id=\"line2d_14\">\n    <path clip-path=\"url(#p55f82823f7)\" d=\"M 51.683807 214.600552 \nL 62.956534 214.756364 \nL 74.229261 214.756364 \nL 85.501989 146.043537 \nL 96.774716 114.413823 \nL 108.047443 214.756364 \nL 119.32017 173.15472 \nL 130.592898 214.704427 \nL 141.865625 54.841932 \nL 153.138352 214.756364 \nL 164.41108 208.420033 \nL 175.683807 67.254907 \nL 186.956534 133.370877 \nL 198.229261 99.871426 \nL 209.501989 192.735019 \nL 220.774716 210.757204 \nL 232.047443 214.756364 \nL 243.32017 214.704427 \nL 254.592898 163.806036 \nL 265.865625 93.535096 \nL 277.138352 212.886627 \nL 288.41108 134.305745 \nL 299.683807 17.083636 \nL 310.956534 89.120439 \nL 322.229261 150.458193 \nL 333.501989 104.493831 \nL 344.774716 214.704427 \nL 356.047443 214.600552 \n\" style=\"fill:none;stroke:#1f77b4;stroke-linecap:square;stroke-width:1.5;\"/>\n   </g>\n   <g id=\"patch_3\">\n    <path d=\"M 36.465625 224.64 \nL 36.465625 7.2 \n\" style=\"fill:none;stroke:#000000;stroke-linecap:square;stroke-linejoin:miter;stroke-width:0.8;\"/>\n   </g>\n   <g id=\"patch_4\">\n    <path d=\"M 371.265625 224.64 \nL 371.265625 7.2 \n\" style=\"fill:none;stroke:#000000;stroke-linecap:square;stroke-linejoin:miter;stroke-width:0.8;\"/>\n   </g>\n   <g id=\"patch_5\">\n    <path d=\"M 36.465625 224.64 \nL 371.265625 224.64 \n\" style=\"fill:none;stroke:#000000;stroke-linecap:square;stroke-linejoin:miter;stroke-width:0.8;\"/>\n   </g>\n   <g id=\"patch_6\">\n    <path d=\"M 36.465625 7.2 \nL 371.265625 7.2 \n\" style=\"fill:none;stroke:#000000;stroke-linecap:square;stroke-linejoin:miter;stroke-width:0.8;\"/>\n   </g>\n  </g>\n </g>\n <defs>\n  <clipPath id=\"p55f82823f7\">\n   <rect height=\"217.44\" width=\"334.8\" x=\"36.465625\" y=\"7.2\"/>\n  </clipPath>\n </defs>\n</svg>\n",
      "image/png": "[encoded data removed]"
     },
     "metadata": {
      "needs_background": "light"
     }
    }
   ],
   "source": [
    "plt.plot(counts)"
   ]
  },
  {
   "cell_type": "code",
   "execution_count": 108,
   "metadata": {},
   "outputs": [
    {
     "output_type": "stream",
     "name": "stderr",
     "text": [
      "100%|██████████| 28/28 [00:00<00:00, 67.64it/s]\n"
     ]
    }
   ],
   "source": [
    "# Plot the Polygons with their weights.\n",
    "drawing_list = list()\n",
    "for idx, polygon_coords in enumerate(tqdm(zipcode_polygons)):\n",
    "    drawing_list.append(gmaps.Polygon(polygon_coords, stroke_color=\"black\", stroke_opacity=0.2, fill_color=(255, 0, 0), fill_opacity=4 * counts[idx]))"
   ]
  },
  {
   "cell_type": "code",
   "execution_count": 110,
   "metadata": {},
   "outputs": [
    {
     "output_type": "display_data",
     "data": {
      "text/plain": "Figure(layout=FigureLayout(height='420px'))",
      "application/vnd.jupyter.widget-view+json": {
       "version_major": 2,
       "version_minor": 0,
       "model_id": "2a0707c909184369b91f3aaec1fa2931"
      }
     },
     "metadata": {}
    }
   ],
   "source": [
    "# Plot the Polygons using gmaps.\n",
    "fig = gmaps.figure(center=(35.08541434188005, -106.65083179442777), zoom_level=12)\n",
    "drawing = gmaps.drawing_layer(features=drawing_list, show_controls=False,)\n",
    "fig.add_layer(drawing)\n",
    "fig"
   ]
  },
  {
   "source": [
    "# Check areas that have a count of zero.\n",
    "[idx for idx, elem in enumerate(counts) if elem == 0]\n",
    "\n",
    "# Indeed, the zip codes with index 1, 2, 5, 9, 16 do not have data, so we should remove them! This should be accounted for in the analysis."
   ],
   "cell_type": "code",
   "metadata": {},
   "execution_count": 115,
   "outputs": [
    {
     "output_type": "execute_result",
     "data": {
      "text/plain": [
       "[1, 2, 5, 9, 16]"
      ]
     },
     "metadata": {},
     "execution_count": 115
    }
   ]
  },
  {
   "source": [
    "### Remove the Empty Entries from the Analysis"
   ],
   "cell_type": "markdown",
   "metadata": {}
  },
  {
   "cell_type": "code",
   "execution_count": null,
   "metadata": {},
   "outputs": [],
   "source": [
    "import os\n",
    "import time\n",
    "\n",
    "import numpy as np\n",
    "import pandas as pd\n",
    "\n",
    "import gmaps\n",
    "import geopandas as gpd"
   ]
  },
  {
   "cell_type": "code",
   "execution_count": null,
   "metadata": {},
   "outputs": [],
   "source": []
  },
  {
   "cell_type": "code",
   "execution_count": null,
   "metadata": {},
   "outputs": [],
   "source": []
  },
  {
   "cell_type": "code",
   "execution_count": null,
   "metadata": {},
   "outputs": [],
   "source": []
  }
 ]
}
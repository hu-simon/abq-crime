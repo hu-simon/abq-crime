{
 "metadata": {
  "language_info": {
   "codemirror_mode": {
    "name": "ipython",
    "version": 3
   },
   "file_extension": ".py",
   "mimetype": "text/x-python",
   "name": "python",
   "nbconvert_exporter": "python",
   "pygments_lexer": "ipython3",
   "version": "3.8.5-final"
  },
  "orig_nbformat": 2,
  "kernelspec": {
   "name": "python3",
   "display_name": "Python 3.8.5 64-bit ('abq_crime': conda)",
   "metadata": {
    "interpreter": {
     "hash": "62409ccdbaec1e4bb0d9643679b40b9a68feb354adb6a62f9100f8a131cbeea3"
    }
   }
  }
 },
 "nbformat": 4,
 "nbformat_minor": 2,
 "cells": [
  {
   "source": [
    "Explores shapefiles and how they can be used."
   ],
   "cell_type": "markdown",
   "metadata": {}
  },
  {
   "cell_type": "code",
   "execution_count": 1,
   "metadata": {},
   "outputs": [],
   "source": [
    "import os\n",
    "import time\n",
    "import glob\n",
    "\n",
    "import shapely\n",
    "import pandas as pd\n",
    "from tqdm import tqdm\n",
    "\n",
    "import gmaps\n",
    "import geopandas as gpd"
   ]
  },
  {
   "cell_type": "code",
   "execution_count": 2,
   "metadata": {},
   "outputs": [],
   "source": [
    "key_path = \"/Users/administrator/Documents/Projects/abq_crime/api_key.txt\"\n",
    "\n",
    "# API Authentication.\n",
    "with open(key_path) as f:\n",
    "    api_key = f.readline()\n",
    "    f.close()\n",
    "\n",
    "# Initialize a session.\n",
    "gmaps.configure(api_key)"
   ]
  },
  {
   "source": [
    "### ZipCodes Data"
   ],
   "cell_type": "markdown",
   "metadata": {}
  },
  {
   "cell_type": "code",
   "execution_count": 6,
   "metadata": {},
   "outputs": [
    {
     "output_type": "stream",
     "name": "stdout",
     "text": [
      "    OBJECTID  ZIPCODE created_us  created_da last_edite  last_edi_1  \\\n0        145    87026       None        None       None        None   \n1        141    87048       None        None       None        None   \n2        143    87015       None        None       None        None   \n3         31    87114       None        None       None        None   \n4        132    87120       None        None       None        None   \n5         22    87115       None        None       None        None   \n6         65    87104       None        None       None        None   \n7        144    87047       None        None       None        None   \n8         28    87121       None        None       None        None   \n9         29    87068       None        None       None        None   \n10        41    87131       None        None       None        None   \n11        82    87102       None        None       None        None   \n12        47    87112       None        None       None        None   \n13       129    87107       None        None       None        None   \n14       140    87113       None        None       None        None   \n15       139    87122       None        None     AGSCPB  2016-10-12   \n16       127    87008       None        None        SDE  2016-10-25   \n17       104    87059       None        None        SDE  2016-10-25   \n18        77    87105       None        None        SDE  2016-10-25   \n19        42    87123       None        None        SDE  2016-10-25   \n20        38    87117       None        None        SDE  2016-10-25   \n21       553    87106     AGSCPB  2016-10-13        SDE  2016-10-25   \n22        35    87108       None        None        SDE  2016-10-25   \n23        37    87116       None        None        SDE  2016-10-25   \n24        63    87110       None        None     AGSJMR  2017-08-03   \n25       124    87111       None        None     AGSJMR  2017-08-03   \n26        92    87109       None        None     AGSJMR  2017-08-03   \n\n            area           len  \\\n0   2.542609e+10  1.213199e+06   \n1   5.079820e+07  4.455545e+04   \n2   5.186129e+09  3.321238e+05   \n3   3.534973e+09  4.125518e+05   \n4   1.356231e+09  1.866591e+05   \n5   2.767017e+08  6.877872e+04   \n6   1.213503e+08  4.876084e+04   \n7   1.851340e+09  2.441930e+05   \n8   2.141883e+09  2.340492e+05   \n9   4.285034e+09  4.539141e+05   \n10  1.746622e+07  2.568803e+04   \n11  1.892640e+08  7.723767e+04   \n12  2.353193e+08  8.356160e+04   \n13  4.136036e+08  1.009129e+05   \n14  2.861110e+08  9.158332e+04   \n15  9.857047e+08  1.546404e+05   \n16  5.966297e+08  1.195011e+05   \n17  5.833065e+09  3.688016e+05   \n18  1.485275e+09  2.722855e+05   \n19  7.595620e+08  1.565928e+05   \n20  1.382027e+09  2.286957e+05   \n21  3.588481e+08  1.766276e+05   \n22  1.622248e+08  6.711491e+04   \n23  4.602387e+07  5.201258e+04   \n24  2.467704e+08  7.685719e+04   \n25  4.997073e+08  1.444848e+05   \n26  2.810714e+08  9.225099e+04   \n\n                                             geometry  \n0   POLYGON ((1431957.874 1535487.031, 1431957.874...  \n1   POLYGON ((1517118.876 1533412.031, 1517062.874...  \n2   POLYGON ((1670405.876 1429902.031, 1654045.874...  \n3   POLYGON ((1418289.874 1503967.031, 1418468.874...  \n4   POLYGON ((1519373.874 1518146.031, 1517426.874...  \n5   POLYGON ((1573879.874 1428887.031, 1575437.874...  \n6   POLYGON ((1517424.874 1488780.031, 1517297.876...  \n7   POLYGON ((1637050.874 1517579.031, 1637093.874...  \n8   POLYGON ((1504327.106 1493091.789, 1504348.524...  \n9   POLYGON ((1453961.899 1470688.578, 1454190.546...  \n10  POLYGON ((1530490.874 1491275.031, 1530468.874...  \n11  POLYGON ((1521205.324 1495789.213, 1521604.184...  \n12  POLYGON ((1556493.361 1497733.401, 1556506.249...  \n13  POLYGON ((1529367.874 1513436.031, 1529158.874...  \n14  POLYGON ((1548633.043 1521467.381, 1548631.546...  \n15  POLYGON ((1563466.874 1534688.031, 1570181.874...  \n16  POLYGON ((1586692.989 1499377.739, 1587360.549...  \n17  POLYGON ((1637096.874 1499350.031, 1637143.874...  \n18  POLYGON ((1508214.874 1494270.031, 1508175.573...  \n19  POLYGON ((1587238.873 1492888.031, 1587345.874...  \n20  POLYGON ((1539760.030 1462079.680, 1539768.306...  \n21  POLYGON ((1534271.874 1493824.031, 1534267.186...  \n22  POLYGON ((1550237.017 1479267.655, 1547828.874...  \n23  MULTIPOLYGON (((1547828.874 1479275.031, 15502...  \n24  POLYGON ((1537867.876 1502596.031, 1538670.874...  \n25  POLYGON ((1548240.459 1513586.929, 1548285.814...  \n26  POLYGON ((1539862.484 1518877.396, 1540794.184...  \n"
     ]
    }
   ],
   "source": [
    "shapefile = gpd.read_file(\"/Users/administrator/Documents/Projects/abq_crime/shapefiles/zipcodes/zipcodes.shp\")\n",
    "print(shapefile)"
   ]
  },
  {
   "source": [
    "This data seems to be the most promising, so we are going to use this as the data."
   ],
   "cell_type": "markdown",
   "metadata": {}
  },
  {
   "source": [
    "### Plotting the Zip Codes"
   ],
   "cell_type": "markdown",
   "metadata": {}
  },
  {
   "cell_type": "code",
   "execution_count": 7,
   "metadata": {},
   "outputs": [],
   "source": [
    "import pyproj"
   ]
  },
  {
   "cell_type": "code",
   "execution_count": 8,
   "metadata": {},
   "outputs": [],
   "source": [
    "# Extract data from the shapefile.\n",
    "shapefile = gpd.read_file(\"/Users/administrator/Documents/Projects/abq_crime/shapefiles/zipcodes/zipcodes.shp\")"
   ]
  },
  {
   "cell_type": "code",
   "execution_count": 9,
   "metadata": {},
   "outputs": [],
   "source": [
    "def epsg2258_to_epsg4326(coord):\n",
    "    \"\"\"Converts coordinates from EPSG:2258 to EPSG:4326.\n",
    "\n",
    "    Parameters\n",
    "    ----------\n",
    "    coord : tuple (int, int)\n",
    "        Tuple containing the coordinates in the EPSG:2258 standard.\n",
    "\n",
    "    Returns\n",
    "    -------\n",
    "    trans_coords : tuple (int, int)\n",
    "        Tuple containing the coordinates in the EPSG:4326 standard.\n",
    "\n",
    "    \"\"\"\n",
    "    transformer = pyproj.Transformer.from_crs(\"epsg:2258\", \"epsg:4326\")\n",
    "    (x_proj, y_proj) = transformer.transform(coord[0], coord[1])\n",
    "\n",
    "    return (x_proj, y_proj)"
   ]
  },
  {
   "source": [
    "#### Example of a Zip Code with Two Polygons"
   ],
   "cell_type": "markdown",
   "metadata": {}
  },
  {
   "cell_type": "code",
   "execution_count": 14,
   "metadata": {},
   "outputs": [
    {
     "output_type": "stream",
     "name": "stderr",
     "text": [
      "100%|██████████| 42/42 [00:05<00:00,  7.20it/s]\n"
     ]
    }
   ],
   "source": [
    "# Shapefile index 23 contains two polygons. Let's try converting the indices and then plot it on Google Maps.\n",
    "#coordinates = shapefile[\"geometry\"][23][0].exterior.coords[:] + shapefile[\"geometry\"][23][1].exterior.coords[:]\n",
    "coordinates = shapefile[\"geometry\"][23][0].exterior.coords[:]\n",
    "for idx in tqdm(range(len(coordinates))):\n",
    "    coordinates[idx] = epsg2258_to_epsg4326(coordinates[idx])"
   ]
  },
  {
   "source": [
    "Now that the coordinates are in (latitude, longitude) format we can plot them using gmaps."
   ],
   "cell_type": "markdown",
   "metadata": {}
  },
  {
   "cell_type": "code",
   "execution_count": 15,
   "metadata": {},
   "outputs": [],
   "source": [
    "key_path = \"/Users/administrator/Documents/Projects/abq_crime/api_key.txt\"\n",
    "with open(key_path) as f:\n",
    "    api_key = f.readline()\n",
    "    f.close()\n",
    "\n",
    "gmaps.configure(api_key=api_key)"
   ]
  },
  {
   "cell_type": "code",
   "execution_count": 22,
   "metadata": {},
   "outputs": [
    {
     "output_type": "display_data",
     "data": {
      "text/plain": "Figure(layout=FigureLayout(height='420px'))",
      "application/vnd.jupyter.widget-view+json": {
       "version_major": 2,
       "version_minor": 0,
       "model_id": "87267eb32f5745e9b3af793f91430bf2"
      }
     },
     "metadata": {}
    }
   ],
   "source": [
    "# Draw the Polygon using gmaps.\n",
    "fig = gmaps.figure(center=(35.08541434188005, -106.65083179442777), zoom_level=13)\n",
    "zipcodes_polygon = gmaps.Polygon(coordinates, stroke_color=\"red\", fill_color=(217, 136, 128),)\n",
    "drawing = gmaps.drawing_layer(features=[zipcodes_polygon], show_controls=False,)\n",
    "fig.add_layer(drawing)\n",
    "fig"
   ]
  },
  {
   "source": [
    "The result is unfortunately not pretty (since the two Polygons are connected by a line), so we should actually split them."
   ],
   "cell_type": "markdown",
   "metadata": {}
  },
  {
   "source": [
    "### Plotting all Zipcodes with Weights"
   ],
   "cell_type": "markdown",
   "metadata": {}
  },
  {
   "cell_type": "code",
   "execution_count": 1,
   "metadata": {},
   "outputs": [],
   "source": [
    "import time\n",
    "\n",
    "import shapely\n",
    "import pyproj\n",
    "import pandas as pd\n",
    "from tqdm import tqdm\n",
    "\n",
    "import gmaps\n",
    "import geopandas as gpd"
   ]
  },
  {
   "cell_type": "code",
   "execution_count": 2,
   "metadata": {},
   "outputs": [],
   "source": [
    "# Authenticate the API Key.\n",
    "key_path = \"/Users/administrator/Documents/Projects/abq_crime/api_key.txt\"\n",
    "with open(key_path) as f:\n",
    "    api_key = f.readline()\n",
    "    f.close()\n",
    "\n",
    "# Initialize a session.\n",
    "gmaps.configure(api_key=api_key)"
   ]
  },
  {
   "cell_type": "code",
   "execution_count": 3,
   "metadata": {},
   "outputs": [],
   "source": [
    "# Load the Zip Code shape file.\n",
    "shapefile_path = \"/Users/administrator/Documents/Projects/abq_crime/shapefiles/zipcodes/zipcodes.shp\"\n",
    "zipcodes_shapefile = gpd.read_file(shapefile_path)\n",
    "\n",
    "# Keep only the ZIPCODE and geometry columns.\n",
    "keep_columns = [\"ZIPCODE\", \"geometry\"]\n",
    "zipcodes_shapefile = zipcodes_shapefile[keep_columns]"
   ]
  },
  {
   "cell_type": "code",
   "execution_count": 4,
   "metadata": {},
   "outputs": [],
   "source": [
    "# Utility functions.\n",
    "def convert_coordinates(coordinates, transformer=None):\n",
    "    \"\"\"Converts coordinates from the EPSG:2258 standard to the EPSG:4326 standard.\n",
    "\n",
    "    Parameters\n",
    "    ----------\n",
    "    coordinates : tuple (int, int)\n",
    "        Tuple containing the coordinates in the EPSG:2258 standard.\n",
    "    transformer : pyproj.transformer.Transformer instance\n",
    "        Instance of a pyproj transformer used for converting the coordinates, by default None. If no transformer is specified, then the default transformer that converts EPSG:2258 to EPSG:4326 is used.\n",
    "    \n",
    "    Returns\n",
    "    -------\n",
    "    trans_coordinates : tuple (int, int)\n",
    "        Tuple containing the coordinates in the EPSG:4326 standard.\n",
    "\n",
    "    \"\"\"\n",
    "    if transformer is None:\n",
    "        transformer = pyproj.Transformer.from_crs(\"epsg:2258\", \"epsg:4326\")\n",
    "    \n",
    "    trans_coordinates = transformer.transform(coordinates[0], coordinates[1])\n",
    "\n",
    "    return trans_coordinates\n",
    "\n",
    "def batch_convert_coordinates(coord_list, transformer=None):\n",
    "    \"\"\"Converts a batch of coordinates from the EPSG:2258 standard to the EPSG:4326 standard.\n",
    "\n",
    "    Parameters\n",
    "    ----------\n",
    "    coord_list : list of tuples (int, int)\n",
    "        List containing tuples containing the coordinates in the EPSG:2258 standard.\n",
    "    transformer : pyproj.transformer.Transformer instance\n",
    "        Instance of a pyproj transformer used for converting the coordinates, by default None. If no transformer is specified, then the default transformer that converts EPSG:2258 to EPSG:4326 is used.\n",
    "\n",
    "    Returns\n",
    "    -------\n",
    "    trans_coord_list : list of tuples (int, int)\n",
    "        List containing tuples of coordinates in the EPSG:4326 standard.\n",
    "\n",
    "    \"\"\"\n",
    "    if transformer is None:\n",
    "        transformer = pyproj.Transformer.from_crs(\"epsg:2258\", \"epsg:4326\")\n",
    "    \n",
    "    trans_coord_list = list()\n",
    "    for coord in coord_list:\n",
    "        trans_coord_list.append(convert_coordinates(coord, transformer=transformer))\n",
    "\n",
    "    return trans_coord_list"
   ]
  },
  {
   "cell_type": "code",
   "execution_count": 5,
   "metadata": {},
   "outputs": [],
   "source": [
    "# Create duplicate entries for zip codes that contain separated convex sets.\n",
    "multipolygon_indices = [type(entry) == shapely.geometry.multipolygon.MultiPolygon for entry in zipcodes_shapefile[\"geometry\"]]\n",
    "multipolygon_indices = [idx for idx, x in enumerate(multipolygon_indices) if x == True]"
   ]
  },
  {
   "cell_type": "code",
   "execution_count": null,
   "metadata": {},
   "outputs": [],
   "source": [
    "# For those indices above, create new entries at the end of the DataFrame, containing the ZIPCODE and geometry for each separate Polygon.\n",
    "for indices in multipolygon_indices:\n",
    "    \n"
   ]
  }
 ]
}
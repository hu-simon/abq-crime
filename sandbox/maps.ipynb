{
 "metadata": {
  "language_info": {
   "codemirror_mode": {
    "name": "ipython",
    "version": 3
   },
   "file_extension": ".py",
   "mimetype": "text/x-python",
   "name": "python",
   "nbconvert_exporter": "python",
   "pygments_lexer": "ipython3",
   "version": "3.8.5-final"
  },
  "orig_nbformat": 2,
  "kernelspec": {
   "name": "python3",
   "display_name": "Python 3.8.5 64-bit ('abq_crime': conda)",
   "metadata": {
    "interpreter": {
     "hash": "62409ccdbaec1e4bb0d9643679b40b9a68feb354adb6a62f9100f8a131cbeea3"
    }
   }
  }
 },
 "nbformat": 4,
 "nbformat_minor": 2,
 "cells": [
  {
   "source": [
    "This file tests Google Maps capabilities."
   ],
   "cell_type": "markdown",
   "metadata": {}
  },
  {
   "cell_type": "code",
   "execution_count": 6,
   "metadata": {},
   "outputs": [],
   "source": [
    "import os\n",
    "import time\n",
    "\n",
    "import gmaps\n",
    "import gmaps.datasets\n",
    "import pandas as pd"
   ]
  },
  {
   "cell_type": "code",
   "execution_count": 2,
   "metadata": {},
   "outputs": [],
   "source": [
    "# Load the API key.\n",
    "key_path = \"/Users/administrator/Documents/Projects/abq_crime/api_key.txt\"\n",
    "with open(key_path) as f:\n",
    "    api_key = f.readline()\n",
    "    f.close()"
   ]
  },
  {
   "cell_type": "code",
   "execution_count": 3,
   "metadata": {},
   "outputs": [
    {
     "output_type": "display_data",
     "data": {
      "text/plain": "Figure(layout=FigureLayout(height='420px'))",
      "application/vnd.jupyter.widget-view+json": {
       "version_major": 2,
       "version_minor": 0,
       "model_id": "0740c72c3df74dc59d092912b8deff5a"
      }
     },
     "metadata": {}
    }
   ],
   "source": [
    "# Initialize a session and print coordinates in NY.\n",
    "gmaps.configure(api_key=api_key)\n",
    "new_york_coordinates = (40.75, -74.00)\n",
    "gmaps.figure(center=new_york_coordinates, zoom_level=12)"
   ]
  },
  {
   "source": [
    "Let's try with the Earthquake data from the tutorial at https://medium.com/future-vision/google-maps-in-python-part-2-393f96196eaf"
   ],
   "cell_type": "markdown",
   "metadata": {}
  },
  {
   "cell_type": "code",
   "execution_count": 23,
   "metadata": {},
   "outputs": [
    {
     "output_type": "execute_result",
     "data": {
      "text/plain": [
       "    latitude   longitude  magnitude\n",
       "0  65.193300 -149.072500       1.70\n",
       "1  38.791832 -122.780830       2.10\n",
       "2  38.818001 -122.792168       0.48\n",
       "3  33.601667 -116.727667       0.78\n",
       "4  37.378334 -118.520836       3.64"
      ],
      "text/html": "<div>\n<style scoped>\n    .dataframe tbody tr th:only-of-type {\n        vertical-align: middle;\n    }\n\n    .dataframe tbody tr th {\n        vertical-align: top;\n    }\n\n    .dataframe thead th {\n        text-align: right;\n    }\n</style>\n<table border=\"1\" class=\"dataframe\">\n  <thead>\n    <tr style=\"text-align: right;\">\n      <th></th>\n      <th>latitude</th>\n      <th>longitude</th>\n      <th>magnitude</th>\n    </tr>\n  </thead>\n  <tbody>\n    <tr>\n      <th>0</th>\n      <td>65.193300</td>\n      <td>-149.072500</td>\n      <td>1.70</td>\n    </tr>\n    <tr>\n      <th>1</th>\n      <td>38.791832</td>\n      <td>-122.780830</td>\n      <td>2.10</td>\n    </tr>\n    <tr>\n      <th>2</th>\n      <td>38.818001</td>\n      <td>-122.792168</td>\n      <td>0.48</td>\n    </tr>\n    <tr>\n      <th>3</th>\n      <td>33.601667</td>\n      <td>-116.727667</td>\n      <td>0.78</td>\n    </tr>\n    <tr>\n      <th>4</th>\n      <td>37.378334</td>\n      <td>-118.520836</td>\n      <td>3.64</td>\n    </tr>\n  </tbody>\n</table>\n</div>"
     },
     "metadata": {},
     "execution_count": 23
    }
   ],
   "source": [
    "# Sandbox\n",
    "earthquake_df = gmaps.datasets.load_dataset_as_df(\"earthquakes\")\n",
    "earthquake_df.head()"
   ]
  },
  {
   "cell_type": "code",
   "execution_count": 22,
   "metadata": {},
   "outputs": [
    {
     "output_type": "display_data",
     "data": {
      "text/plain": "Figure(layout=FigureLayout(height='420px'))",
      "application/vnd.jupyter.widget-view+json": {
       "version_major": 2,
       "version_minor": 0,
       "model_id": "19084ff3a70a4821987938cb874ec9ac"
      }
     },
     "metadata": {}
    }
   ],
   "source": [
    "# Download the dataset from using the API.\n",
    "earthquake_df = gmaps.datasets.load_dataset_as_df(\"earthquakes\")\n",
    "\n",
    "# Extract the locations from the dataset.\n",
    "locations = earthquake_df[[\"latitude\", \"longitude\"]]\n",
    "\n",
    "# Get the magnitude data from the data.\n",
    "weights = earthquake_df[\"magnitude\"]\n",
    "\n",
    "# Set up the map and plot it.\n",
    "fig = gmaps.figure()\n",
    "fig.add_layer(gmaps.heatmap_layer(locations, weights=weights))\n",
    "fig"
   ]
  },
  {
   "source": [
    "### Explore Polygon Drawing"
   ],
   "cell_type": "markdown",
   "metadata": {}
  },
  {
   "cell_type": "code",
   "execution_count": 24,
   "metadata": {},
   "outputs": [],
   "source": [
    "import gmaps\n",
    "import gmaps.datasets\n",
    "\n",
    "# API Authenticataion.\n",
    "key_path = \"/Users/administrator/Documents/Projects/abq_crime/api_key.txt\"\n",
    "with open(key_path) as f:\n",
    "    api_key = f.readline()\n",
    "    f.close()\n",
    "\n",
    "# Initialize a session.\n",
    "gmaps.configure(api_key)"
   ]
  },
  {
   "cell_type": "code",
   "execution_count": 25,
   "metadata": {},
   "outputs": [
    {
     "output_type": "execute_result",
     "data": {
      "text/plain": [
       "[(51.530318, -0.123026), (51.530078, -0.123614)]"
      ]
     },
     "metadata": {},
     "execution_count": 25
    }
   ],
   "source": [
    "# Load the london congestion zones.\n",
    "london_congestion_zone_path = gmaps.datasets.load_dataset(\"london_congestion_zone\")\n",
    "london_congestion_zone_path[:2]"
   ]
  },
  {
   "cell_type": "code",
   "execution_count": 27,
   "metadata": {},
   "outputs": [
    {
     "output_type": "display_data",
     "data": {
      "text/plain": "Figure(layout=FigureLayout(height='420px'))",
      "application/vnd.jupyter.widget-view+json": {
       "version_major": 2,
       "version_minor": 0,
       "model_id": "75ec5e32fb7a45099af0e933aa53f5a2"
      }
     },
     "metadata": {}
    }
   ],
   "source": [
    "# Draw this on the map with gmaps.Polygon.\n",
    "fig = gmaps.figure(center=(51.5, -0.1), zoom_level=12)\n",
    "london_congestion_zone_polygon = gmaps.Polygon(\n",
    "    london_congestion_zone_path, \n",
    "    stroke_color=\"blue\", \n",
    "    fill_color=\"blue\"\n",
    ")\n",
    "drawing = gmaps.drawing_layer(\n",
    "    features=[london_congestion_zone_polygon],\n",
    "    show_controls=False,\n",
    ")\n",
    "fig.add_layer(drawing)\n",
    "fig"
   ]
  },
  {
   "cell_type": "code",
   "execution_count": 29,
   "metadata": {},
   "outputs": [
    {
     "output_type": "execute_result",
     "data": {
      "text/plain": [
       "[(51.530318, -0.123026),\n",
       " (51.530078, -0.123614),\n",
       " (51.529709, -0.124366),\n",
       " (51.529046, -0.126057),\n",
       " (51.52846, -0.127506),\n",
       " (51.527973, -0.12877),\n",
       " (51.52763, -0.129628),\n",
       " (51.527187, -0.130863),\n",
       " (51.526239, -0.133624),\n",
       " (51.525719, -0.135254)]"
      ]
     },
     "metadata": {},
     "execution_count": 29
    }
   ],
   "source": [
    "# Get an idea of how the data is supposed to be structured, to plot the Zip Code data.\n",
    "london_congestion_zone_path[:10]"
   ]
  },
  {
   "source": [
    "It's really just a list of tuples, so as long as we can extract that data, we are going to be fine."
   ],
   "cell_type": "markdown",
   "metadata": {}
  }
 ]
}